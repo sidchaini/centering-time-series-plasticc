{
 "cells": [
  {
   "cell_type": "code",
   "execution_count": 1,
   "id": "9384afb2-01d1-43ea-9537-60d0aefe17c7",
   "metadata": {},
   "outputs": [],
   "source": [
    "import numpy as np\n",
    "np.random.seed(42)\n",
    "np.set_printoptions(suppress=True)\n",
    "from scipy.optimize import least_squares, curve_fit\n",
    "from matplotlib import pylab as plt\n",
    "import pandas as pd\n",
    "import glob\n",
    "import time\n",
    "from tqdm.notebook import tqdm\n",
    "import os\n",
    "import random\n",
    "\n",
    "import warnings\n",
    "from scipy.optimize import OptimizeWarning\n",
    "warnings.simplefilter(\"error\", OptimizeWarning)\n",
    "\n",
    "# import seaborn as sns\n",
    "# sns.set()"
   ]
  },
  {
   "cell_type": "code",
   "execution_count": 117,
   "id": "c7c86fd1-190a-4ee3-b1aa-9cdb272dd3e8",
   "metadata": {},
   "outputs": [],
   "source": [
    "def plot_allbands_df(df,title=None,ax=plt):\n",
    "    ugrizYcolors = [\"violet\",\"green\",\"red\",\"darkred\",\"grey\",\"black\"]\n",
    "    for i,band in enumerate(\"ugrizY\"):\n",
    "        subdf = df[df[\"band\"]==band].reset_index(drop=True)\n",
    "        x = subdf[\"mjd\"]\n",
    "        y = subdf[\"flux\"]\n",
    "        yerr = subdf[\"fluxerr\"]\n",
    "#         ax.errorbar(x,y,yerr=yerr,ls = \"None\",color=ugrizYcolors[i])\n",
    "        ax.scatter(x,y,s=1.2,label=band,color=ugrizYcolors[i])\n",
    "        if title is not None:\n",
    "            if ax is not plt:\n",
    "                ax.set_title(title)\n",
    "            else:\n",
    "                ax.title(title)\n",
    "    return ax"
   ]
  },
  {
   "cell_type": "code",
   "execution_count": 3,
   "id": "1291bf47-636e-452b-9d1e-5fce8328d9f0",
   "metadata": {},
   "outputs": [],
   "source": [
    "filels = glob.glob(\"csv_data/*.csv\")"
   ]
  },
  {
   "cell_type": "code",
   "execution_count": 13,
   "id": "5e7455b0-98fd-494c-bfaa-4c33d2b7c96c",
   "metadata": {},
   "outputs": [],
   "source": [
    "# df = pd.read_csv(\"csv_data/122615_TDE.csv\")"
   ]
  },
  {
   "cell_type": "code",
   "execution_count": 30,
   "id": "2b9c2b97-a409-46f1-b71a-e040ac95b47a",
   "metadata": {},
   "outputs": [],
   "source": [
    "def give_detected_info(file,mismatchdict={},plot=False,print_errratiolessthan5=False,print_mismatchcount=False,\n",
    "                      print_imaxmjdmax=False):\n",
    "    title=file.split(\"/\")[-1]\n",
    "    title_class = title.split(\"_\")[-1].split(\".\")[0]\n",
    "    if title_class not in mismatchdict.keys():\n",
    "        mismatchdict[title_class] = 0\n",
    "    \n",
    "    df = pd.read_csv(file)\n",
    "    df[\"mjd\"] = df[\"mjd\"] - df[\"mjd\"][0]\n",
    "    imax = abs(df[\"flux\"]/df[\"fluxerr\"]).argmax()\n",
    "    \n",
    "    if print_errratiolessthan5 and abs(df[\"flux\"]/df[\"fluxerr\"]).max() < 5:\n",
    "        print(title)\n",
    "    \n",
    "    mjdmax = df[\"mjd\"][imax]\n",
    "    if print_imaxmjdmax:\n",
    "        print(f\"imax = {imax}\\nmjdmax={mjdmax}\")\n",
    "    df[\"sid_bool\"]=0\n",
    "    df.loc[(df[\"mjd\"] >= mjdmax-100) & (df[\"mjd\"] <= mjdmax+100),\"sid_bool\"] = 1\n",
    "    mismatch_count = len(df.loc[df[\"detected_bool\"] - df[\"sid_bool\"] == 1])\n",
    "\n",
    "    if mismatch_count > 0:\n",
    "        mismatchdict[title_class] = mismatchdict[title_class] + 1\n",
    "        if print_mismatchcount:\n",
    "            print(f\"Mismatch Count = {mismatch_count} for {file.split('/')[-1]}\")\n",
    "    \n",
    "    if plot:\n",
    "        subdf = df[df[\"sid_bool\"] == 1].reset_index(drop=True)\n",
    "        f, (ax1, ax2) = plt.subplots(2,1, sharex=True)\n",
    "        x = df[\"mjd\"]\n",
    "        y = df[\"flux\"]\n",
    "        ax1.scatter(x,y,s=1.2)\n",
    "        plot_allbands_df(subdf,ax=ax2,title=title)\n",
    "\n",
    "        plt.suptitle(file.split(\"/\")[-1])\n",
    "        plt.show()\n",
    "    return mismatchdict"
   ]
  },
  {
   "cell_type": "code",
   "execution_count": 32,
   "id": "aab5d081-160a-4b91-a9af-fd3a6e6ebec3",
   "metadata": {},
   "outputs": [
    {
     "name": "stdout",
     "output_type": "stream",
     "text": [
      "Mismatch Count = 62 for 227152_AGN.csv\n",
      "Mismatch Count = 1 for 69795_AGN.csv\n",
      "Mismatch Count = 75 for 272103_AGN.csv\n",
      "Mismatch Count = 68 for 204227_AGN.csv\n",
      "Mismatch Count = 2 for 299008_TDE.csv\n",
      "Mismatch Count = 39 for 220372_AGN.csv\n",
      "Mismatch Count = 1 for 221529_SLSN-I.csv\n",
      "Mismatch Count = 111 for 281587_AGN.csv\n",
      "Mismatch Count = 116 for 75803_AGN.csv\n",
      "Mismatch Count = 177 for 198396_AGN.csv\n",
      "Mismatch Count = 2 for 153443_SNII.csv\n",
      "Mismatch Count = 1 for 88056_SLSN-I.csv\n",
      "Mismatch Count = 7 for 267239_AGN.csv\n",
      "Mismatch Count = 143 for 91871_AGN.csv\n",
      "Mismatch Count = 2 for 276084_SLSN-I.csv\n",
      "Mismatch Count = 3 for 329044_TDE.csv\n",
      "Mismatch Count = 15 for 58539_SLSN-I.csv\n",
      "Mismatch Count = 59 for 315884_AGN.csv\n",
      "Mismatch Count = 1 for 116440_SNII.csv\n",
      "Mismatch Count = 3 for 337020_SNII.csv\n",
      "Mismatch Count = 44 for 94074_AGN.csv\n",
      "Mismatch Count = 35 for 287551_AGN.csv\n",
      "Mismatch Count = 7 for 321618_AGN.csv\n",
      "Mismatch Count = 2 for 316235_SLSN-I.csv\n",
      "Mismatch Count = 121 for 231183_AGN.csv\n",
      "Mismatch Count = 41 for 222829_AGN.csv\n",
      "Mismatch Count = 1 for 318874_SLSN-I.csv\n",
      "Mismatch Count = 39 for 266706_AGN.csv\n",
      "Mismatch Count = 10 for 239384_AGN.csv\n",
      "Mismatch Count = 49 for 175848_AGN.csv\n",
      "Mismatch Count = 16 for 317857_AGN.csv\n",
      "Mismatch Count = 7 for 261883_SNIa.csv\n",
      "Mismatch Count = 3 for 159815_SNIa.csv\n",
      "Mismatch Count = 10 for 53377_SLSN-I.csv\n",
      "Mismatch Count = 40 for 169239_AGN.csv\n",
      "Mismatch Count = 2 for 41282_SLSN-I.csv\n",
      "Mismatch Count = 55 for 103126_AGN.csv\n",
      "Mismatch Count = 2 for 51977_SNIax.csv\n",
      "Mismatch Count = 1 for 31738_AGN.csv\n",
      "Mismatch Count = 5 for 230350_TDE.csv\n",
      "Mismatch Count = 167 for 91264_AGN.csv\n",
      "Mismatch Count = 33 for 136892_AGN.csv\n",
      "Mismatch Count = 68 for 56986_AGN.csv\n",
      "Mismatch Count = 22 for 328406_AGN.csv\n",
      "Mismatch Count = 24 for 267376_AGN.csv\n",
      "Mismatch Count = 69 for 93074_AGN.csv\n",
      "Mismatch Count = 5 for 339740_TDE.csv\n",
      "Mismatch Count = 43 for 209780_AGN.csv\n",
      "Mismatch Count = 9 for 69990_AGN.csv\n",
      "Mismatch Count = 34 for 136418_AGN.csv\n",
      "Mismatch Count = 77 for 235595_AGN.csv\n",
      "Mismatch Count = 7 for 123824_SLSN-I.csv\n",
      "Mismatch Count = 58 for 137797_AGN.csv\n",
      "Mismatch Count = 51 for 203450_AGN.csv\n",
      "Mismatch Count = 24 for 29566_AGN.csv\n",
      "Mismatch Count = 19 for 23667_AGN.csv\n",
      "Mismatch Count = 103 for 250282_AGN.csv\n",
      "Mismatch Count = 4 for 249384_SNIa-91bg.csv\n",
      "Mismatch Count = 77 for 295853_AGN.csv\n",
      "Mismatch Count = 103 for 334142_AGN.csv\n",
      "Mismatch Count = 2 for 30998_SLSN-I.csv\n",
      "Mismatch Count = 8 for 247329_TDE.csv\n",
      "Mismatch Count = 73 for 305554_AGN.csv\n",
      "Mismatch Count = 7 for 255926_AGN.csv\n",
      "Mismatch Count = 2 for 274996_TDE.csv\n",
      "Mismatch Count = 192 for 151888_AGN.csv\n",
      "Mismatch Count = 77 for 2661_AGN.csv\n",
      "Mismatch Count = 26 for 107495_AGN.csv\n",
      "Mismatch Count = 6 for 111076_AGN.csv\n",
      "Mismatch Count = 20 for 109959_SLSN-I.csv\n",
      "Mismatch Count = 15 for 211276_TDE.csv\n",
      "Mismatch Count = 15 for 216667_AGN.csv\n",
      "Mismatch Count = 170 for 273648_AGN.csv\n",
      "Mismatch Count = 11 for 137128_SLSN-I.csv\n",
      "Mismatch Count = 1 for 284917_SNIa.csv\n",
      "Mismatch Count = 2 for 252323_AGN.csv\n",
      "Mismatch Count = 5 for 183631_AGN.csv\n",
      "Mismatch Count = 37 for 106269_SLSN-I.csv\n",
      "Mismatch Count = 6 for 212132_AGN.csv\n",
      "Mismatch Count = 16 for 247064_AGN.csv\n",
      "Mismatch Count = 3 for 160306_AGN.csv\n",
      "Mismatch Count = 153 for 146937_AGN.csv\n",
      "Mismatch Count = 66 for 168597_AGN.csv\n",
      "Mismatch Count = 10 for 206976_SLSN-I.csv\n",
      "Mismatch Count = 3 for 79319_AGN.csv\n",
      "Mismatch Count = 65 for 311198_AGN.csv\n",
      "Mismatch Count = 20 for 168034_SLSN-I.csv\n",
      "Mismatch Count = 14 for 49733_AGN.csv\n",
      "Mismatch Count = 41 for 72934_AGN.csv\n"
     ]
    }
   ],
   "source": [
    "mismatchdict={}\n",
    "for file in filels:\n",
    "    mismatchdict = give_detected_info(file,mismatchdict,print_mismatchcount=True)"
   ]
  },
  {
   "cell_type": "code",
   "execution_count": 27,
   "id": "d5e48bdc-f450-4a03-bc95-5cee49d956fb",
   "metadata": {},
   "outputs": [
    {
     "data": {
      "text/plain": [
       "{'SNIa-91bg': 1,\n",
       " 'TDE': 7,\n",
       " 'SNII': 3,\n",
       " 'SNIbc': 0,\n",
       " 'SNIa': 3,\n",
       " 'SLSN-I': 15,\n",
       " 'SNIax': 1,\n",
       " 'AGN': 59}"
      ]
     },
     "execution_count": 27,
     "metadata": {},
     "output_type": "execute_result"
    }
   ],
   "source": [
    "mismatchdict"
   ]
  },
  {
   "cell_type": "markdown",
   "id": "03581640-1d43-4deb-96ac-3a18ffd7d2d0",
   "metadata": {},
   "source": [
    "# Debug"
   ]
  },
  {
   "cell_type": "code",
   "execution_count": 185,
   "id": "11d5bee3-8406-4f80-82f1-51ffb36aca24",
   "metadata": {},
   "outputs": [
    {
     "name": "stdout",
     "output_type": "stream",
     "text": [
      "imax = 1\n",
      "mjdmax=0.007599999997182749\n",
      "Mismatch Count = 5\n"
     ]
    }
   ],
   "source": [
    "df=pd.read_csv(\"csv_data/230350_TDE.csv\")\n",
    "df[\"mjd\"] = df[\"mjd\"] - df[\"mjd\"][0]\n",
    "imax = abs(df[\"flux\"]/df[\"fluxerr\"]).argmax()\n",
    "\n",
    "if abs(df[\"flux\"]/df[\"fluxerr\"]).max() < 5:\n",
    "    print(title)\n",
    "\n",
    "mjdmax = df[\"mjd\"][imax]\n",
    "\n",
    "print(f\"imax = {imax}\\nmjdmax={mjdmax}\")\n",
    "df[\"sid_bool\"]=0\n",
    "df.loc[(df[\"mjd\"] >= mjdmax-100) & (df[\"mjd\"] <= mjdmax+100),\"sid_bool\"] = 1\n",
    "df[\"ratio\"] = abs(df[\"flux\"]/df[\"fluxerr\"])\n",
    "mismatch_count = len(df.loc[df[\"detected_bool\"] - df[\"sid_bool\"] == 1])\n",
    "print(f\"Mismatch Count = {mismatch_count}\")"
   ]
  },
  {
   "cell_type": "code",
   "execution_count": 186,
   "id": "b56ba5b1-2a90-473f-9dd8-d2abbf6aad85",
   "metadata": {},
   "outputs": [
    {
     "data": {
      "image/png": "[encoded data removed]",
      "text/plain": [
       "<Figure size 432x288 with 1 Axes>"
      ]
     },
     "metadata": {
      "needs_background": "light"
     },
     "output_type": "display_data"
    }
   ],
   "source": [
    "plot_allbands_df(df).show()"
   ]
  },
  {
   "cell_type": "code",
   "execution_count": 187,
   "id": "d88f8848-2536-45ff-8659-f4c3b3fb63cf",
   "metadata": {},
   "outputs": [
    {
     "data": {
      "text/plain": [
       "<module 'matplotlib.pylab' from '/home/sidchaini/resspect_work/.venvs/newresspect/lib/python3.8/site-packages/matplotlib/pylab.py'>"
      ]
     },
     "execution_count": 187,
     "metadata": {},
     "output_type": "execute_result"
    },
    {
     "data": {
      "image/png": "[encoded data removed]",
      "text/plain": [
       "<Figure size 432x288 with 1 Axes>"
      ]
     },
     "metadata": {
      "needs_background": "light"
     },
     "output_type": "display_data"
    }
   ],
   "source": [
    "plot_allbands_df(df[df[\"detected_bool\"]==1])"
   ]
  },
  {
   "cell_type": "code",
   "execution_count": 188,
   "id": "183a9a52-bc76-4bb8-a106-a5aa7124d4ef",
   "metadata": {},
   "outputs": [
    {
     "data": {
      "text/plain": [
       "<module 'matplotlib.pylab' from '/home/sidchaini/resspect_work/.venvs/newresspect/lib/python3.8/site-packages/matplotlib/pylab.py'>"
      ]
     },
     "execution_count": 188,
     "metadata": {},
     "output_type": "execute_result"
    },
    {
     "data": {
      "image/png": "[encoded data removed]",
      "text/plain": [
       "<Figure size 432x288 with 1 Axes>"
      ]
     },
     "metadata": {
      "needs_background": "light"
     },
     "output_type": "display_data"
    }
   ],
   "source": [
    "plot_allbands_df(df[df[\"sid_bool\"]==1])"
   ]
  },
  {
   "cell_type": "code",
   "execution_count": 189,
   "id": "0699b0a2-85f6-418c-887e-b81d118d518f",
   "metadata": {},
   "outputs": [
    {
     "data": {
      "text/plain": [
       "101.6545"
      ]
     },
     "execution_count": 189,
     "metadata": {},
     "output_type": "execute_result"
    }
   ],
   "source": [
    "101.6623 - 0.0078"
   ]
  },
  {
   "cell_type": "code",
   "execution_count": 190,
   "id": "b4e85daf-b17d-4d57-87b6-591ce261a958",
   "metadata": {},
   "outputs": [
    {
     "data": {
      "text/html": [
       "<div>\n",
       "<style scoped>\n",
       "    .dataframe tbody tr th:only-of-type {\n",
       "        vertical-align: middle;\n",
       "    }\n",
       "\n",
       "    .dataframe tbody tr th {\n",
       "        vertical-align: top;\n",
       "    }\n",
       "\n",
       "    .dataframe thead th {\n",
       "        text-align: right;\n",
       "    }\n",
       "</style>\n",
       "<table border=\"1\" class=\"dataframe\">\n",
       "  <thead>\n",
       "    <tr style=\"text-align: right;\">\n",
       "      <th></th>\n",
       "      <th>mjd</th>\n",
       "      <th>band</th>\n",
       "      <th>flux</th>\n",
       "      <th>fluxerr</th>\n",
       "      <th>detected_bool</th>\n",
       "      <th>sid_bool</th>\n",
       "      <th>ratio</th>\n",
       "    </tr>\n",
       "  </thead>\n",
       "  <tbody>\n",
       "    <tr>\n",
       "      <th>0</th>\n",
       "      <td>0.0000</td>\n",
       "      <td>r</td>\n",
       "      <td>16.524117</td>\n",
       "      <td>1.365402</td>\n",
       "      <td>1</td>\n",
       "      <td>1</td>\n",
       "      <td>12.102016</td>\n",
       "    </tr>\n",
       "    <tr>\n",
       "      <th>1</th>\n",
       "      <td>0.0076</td>\n",
       "      <td>g</td>\n",
       "      <td>19.268864</td>\n",
       "      <td>1.173043</td>\n",
       "      <td>1</td>\n",
       "      <td>1</td>\n",
       "      <td>16.426392</td>\n",
       "    </tr>\n",
       "    <tr>\n",
       "      <th>2</th>\n",
       "      <td>0.0152</td>\n",
       "      <td>i</td>\n",
       "      <td>15.228911</td>\n",
       "      <td>1.769727</td>\n",
       "      <td>1</td>\n",
       "      <td>1</td>\n",
       "      <td>8.605232</td>\n",
       "    </tr>\n",
       "    <tr>\n",
       "      <th>3</th>\n",
       "      <td>0.0261</td>\n",
       "      <td>z</td>\n",
       "      <td>12.967512</td>\n",
       "      <td>2.605118</td>\n",
       "      <td>1</td>\n",
       "      <td>1</td>\n",
       "      <td>4.977706</td>\n",
       "    </tr>\n",
       "    <tr>\n",
       "      <th>5</th>\n",
       "      <td>3.0348</td>\n",
       "      <td>r</td>\n",
       "      <td>17.048122</td>\n",
       "      <td>2.450540</td>\n",
       "      <td>1</td>\n",
       "      <td>1</td>\n",
       "      <td>6.956884</td>\n",
       "    </tr>\n",
       "    <tr>\n",
       "      <th>8</th>\n",
       "      <td>3.0610</td>\n",
       "      <td>z</td>\n",
       "      <td>11.733285</td>\n",
       "      <td>2.517791</td>\n",
       "      <td>1</td>\n",
       "      <td>1</td>\n",
       "      <td>4.660151</td>\n",
       "    </tr>\n",
       "    <tr>\n",
       "      <th>10</th>\n",
       "      <td>19.9535</td>\n",
       "      <td>u</td>\n",
       "      <td>16.841742</td>\n",
       "      <td>1.869669</td>\n",
       "      <td>1</td>\n",
       "      <td>1</td>\n",
       "      <td>9.007874</td>\n",
       "    </tr>\n",
       "    <tr>\n",
       "      <th>11</th>\n",
       "      <td>20.9336</td>\n",
       "      <td>u</td>\n",
       "      <td>17.643549</td>\n",
       "      <td>2.503772</td>\n",
       "      <td>1</td>\n",
       "      <td>1</td>\n",
       "      <td>7.046787</td>\n",
       "    </tr>\n",
       "    <tr>\n",
       "      <th>12</th>\n",
       "      <td>21.9317</td>\n",
       "      <td>u</td>\n",
       "      <td>12.922135</td>\n",
       "      <td>1.962446</td>\n",
       "      <td>1</td>\n",
       "      <td>1</td>\n",
       "      <td>6.584709</td>\n",
       "    </tr>\n",
       "    <tr>\n",
       "      <th>13</th>\n",
       "      <td>22.9273</td>\n",
       "      <td>u</td>\n",
       "      <td>14.132051</td>\n",
       "      <td>2.489868</td>\n",
       "      <td>1</td>\n",
       "      <td>1</td>\n",
       "      <td>5.675823</td>\n",
       "    </tr>\n",
       "    <tr>\n",
       "      <th>15</th>\n",
       "      <td>24.9454</td>\n",
       "      <td>u</td>\n",
       "      <td>14.687086</td>\n",
       "      <td>2.737474</td>\n",
       "      <td>1</td>\n",
       "      <td>1</td>\n",
       "      <td>5.365197</td>\n",
       "    </tr>\n",
       "    <tr>\n",
       "      <th>16</th>\n",
       "      <td>27.9900</td>\n",
       "      <td>r</td>\n",
       "      <td>12.760982</td>\n",
       "      <td>0.929819</td>\n",
       "      <td>1</td>\n",
       "      <td>1</td>\n",
       "      <td>13.724157</td>\n",
       "    </tr>\n",
       "    <tr>\n",
       "      <th>17</th>\n",
       "      <td>27.9976</td>\n",
       "      <td>g</td>\n",
       "      <td>14.735128</td>\n",
       "      <td>0.944391</td>\n",
       "      <td>1</td>\n",
       "      <td>1</td>\n",
       "      <td>15.602783</td>\n",
       "    </tr>\n",
       "    <tr>\n",
       "      <th>18</th>\n",
       "      <td>28.0053</td>\n",
       "      <td>i</td>\n",
       "      <td>9.635733</td>\n",
       "      <td>1.511846</td>\n",
       "      <td>1</td>\n",
       "      <td>1</td>\n",
       "      <td>6.373488</td>\n",
       "    </tr>\n",
       "    <tr>\n",
       "      <th>21</th>\n",
       "      <td>43.9251</td>\n",
       "      <td>r</td>\n",
       "      <td>10.372975</td>\n",
       "      <td>0.857451</td>\n",
       "      <td>1</td>\n",
       "      <td>1</td>\n",
       "      <td>12.097455</td>\n",
       "    </tr>\n",
       "    <tr>\n",
       "      <th>22</th>\n",
       "      <td>43.9327</td>\n",
       "      <td>g</td>\n",
       "      <td>12.643498</td>\n",
       "      <td>0.834049</td>\n",
       "      <td>1</td>\n",
       "      <td>1</td>\n",
       "      <td>15.159179</td>\n",
       "    </tr>\n",
       "    <tr>\n",
       "      <th>23</th>\n",
       "      <td>43.9403</td>\n",
       "      <td>i</td>\n",
       "      <td>9.686547</td>\n",
       "      <td>1.325717</td>\n",
       "      <td>1</td>\n",
       "      <td>1</td>\n",
       "      <td>7.306648</td>\n",
       "    </tr>\n",
       "    <tr>\n",
       "      <th>24</th>\n",
       "      <td>43.9513</td>\n",
       "      <td>z</td>\n",
       "      <td>5.534271</td>\n",
       "      <td>2.166526</td>\n",
       "      <td>1</td>\n",
       "      <td>1</td>\n",
       "      <td>2.554445</td>\n",
       "    </tr>\n",
       "    <tr>\n",
       "      <th>27</th>\n",
       "      <td>55.8280</td>\n",
       "      <td>r</td>\n",
       "      <td>9.631650</td>\n",
       "      <td>1.228227</td>\n",
       "      <td>1</td>\n",
       "      <td>1</td>\n",
       "      <td>7.841914</td>\n",
       "    </tr>\n",
       "    <tr>\n",
       "      <th>28</th>\n",
       "      <td>55.8358</td>\n",
       "      <td>g</td>\n",
       "      <td>8.688023</td>\n",
       "      <td>1.342114</td>\n",
       "      <td>1</td>\n",
       "      <td>1</td>\n",
       "      <td>6.473387</td>\n",
       "    </tr>\n",
       "    <tr>\n",
       "      <th>37</th>\n",
       "      <td>68.7907</td>\n",
       "      <td>r</td>\n",
       "      <td>7.749100</td>\n",
       "      <td>1.086770</td>\n",
       "      <td>1</td>\n",
       "      <td>1</td>\n",
       "      <td>7.130396</td>\n",
       "    </tr>\n",
       "    <tr>\n",
       "      <th>38</th>\n",
       "      <td>68.7984</td>\n",
       "      <td>g</td>\n",
       "      <td>8.714171</td>\n",
       "      <td>0.985429</td>\n",
       "      <td>1</td>\n",
       "      <td>1</td>\n",
       "      <td>8.843023</td>\n",
       "    </tr>\n",
       "    <tr>\n",
       "      <th>39</th>\n",
       "      <td>68.8062</td>\n",
       "      <td>i</td>\n",
       "      <td>5.575230</td>\n",
       "      <td>1.539844</td>\n",
       "      <td>1</td>\n",
       "      <td>1</td>\n",
       "      <td>3.620646</td>\n",
       "    </tr>\n",
       "    <tr>\n",
       "      <th>42</th>\n",
       "      <td>71.7844</td>\n",
       "      <td>r</td>\n",
       "      <td>8.845638</td>\n",
       "      <td>0.976341</td>\n",
       "      <td>1</td>\n",
       "      <td>1</td>\n",
       "      <td>9.059988</td>\n",
       "    </tr>\n",
       "    <tr>\n",
       "      <th>43</th>\n",
       "      <td>71.7921</td>\n",
       "      <td>g</td>\n",
       "      <td>7.575898</td>\n",
       "      <td>0.833458</td>\n",
       "      <td>1</td>\n",
       "      <td>1</td>\n",
       "      <td>9.089718</td>\n",
       "    </tr>\n",
       "    <tr>\n",
       "      <th>47</th>\n",
       "      <td>74.7766</td>\n",
       "      <td>r</td>\n",
       "      <td>6.969279</td>\n",
       "      <td>1.044151</td>\n",
       "      <td>1</td>\n",
       "      <td>1</td>\n",
       "      <td>6.674589</td>\n",
       "    </tr>\n",
       "    <tr>\n",
       "      <th>48</th>\n",
       "      <td>74.7844</td>\n",
       "      <td>g</td>\n",
       "      <td>8.025563</td>\n",
       "      <td>1.050611</td>\n",
       "      <td>1</td>\n",
       "      <td>1</td>\n",
       "      <td>7.638948</td>\n",
       "    </tr>\n",
       "    <tr>\n",
       "      <th>52</th>\n",
       "      <td>75.8256</td>\n",
       "      <td>u</td>\n",
       "      <td>9.989122</td>\n",
       "      <td>1.660748</td>\n",
       "      <td>1</td>\n",
       "      <td>1</td>\n",
       "      <td>6.014833</td>\n",
       "    </tr>\n",
       "    <tr>\n",
       "      <th>57</th>\n",
       "      <td>80.7690</td>\n",
       "      <td>u</td>\n",
       "      <td>10.398084</td>\n",
       "      <td>1.912302</td>\n",
       "      <td>1</td>\n",
       "      <td>1</td>\n",
       "      <td>5.437470</td>\n",
       "    </tr>\n",
       "    <tr>\n",
       "      <th>58</th>\n",
       "      <td>81.7812</td>\n",
       "      <td>u</td>\n",
       "      <td>7.289669</td>\n",
       "      <td>1.415054</td>\n",
       "      <td>1</td>\n",
       "      <td>1</td>\n",
       "      <td>5.151513</td>\n",
       "    </tr>\n",
       "    <tr>\n",
       "      <th>59</th>\n",
       "      <td>85.8555</td>\n",
       "      <td>r</td>\n",
       "      <td>6.776834</td>\n",
       "      <td>0.772614</td>\n",
       "      <td>1</td>\n",
       "      <td>1</td>\n",
       "      <td>8.771306</td>\n",
       "    </tr>\n",
       "    <tr>\n",
       "      <th>60</th>\n",
       "      <td>85.8631</td>\n",
       "      <td>g</td>\n",
       "      <td>8.097078</td>\n",
       "      <td>0.895960</td>\n",
       "      <td>1</td>\n",
       "      <td>1</td>\n",
       "      <td>9.037321</td>\n",
       "    </tr>\n",
       "    <tr>\n",
       "      <th>61</th>\n",
       "      <td>85.8708</td>\n",
       "      <td>i</td>\n",
       "      <td>5.185413</td>\n",
       "      <td>1.140911</td>\n",
       "      <td>1</td>\n",
       "      <td>1</td>\n",
       "      <td>4.544976</td>\n",
       "    </tr>\n",
       "    <tr>\n",
       "      <th>69</th>\n",
       "      <td>97.8102</td>\n",
       "      <td>r</td>\n",
       "      <td>5.354739</td>\n",
       "      <td>0.825060</td>\n",
       "      <td>1</td>\n",
       "      <td>1</td>\n",
       "      <td>6.490121</td>\n",
       "    </tr>\n",
       "    <tr>\n",
       "      <th>70</th>\n",
       "      <td>97.8179</td>\n",
       "      <td>g</td>\n",
       "      <td>6.287721</td>\n",
       "      <td>0.713336</td>\n",
       "      <td>1</td>\n",
       "      <td>1</td>\n",
       "      <td>8.814529</td>\n",
       "    </tr>\n",
       "    <tr>\n",
       "      <th>74</th>\n",
       "      <td>100.8314</td>\n",
       "      <td>r</td>\n",
       "      <td>5.598187</td>\n",
       "      <td>1.365637</td>\n",
       "      <td>1</td>\n",
       "      <td>0</td>\n",
       "      <td>4.099323</td>\n",
       "    </tr>\n",
       "    <tr>\n",
       "      <th>79</th>\n",
       "      <td>103.8179</td>\n",
       "      <td>r</td>\n",
       "      <td>7.599024</td>\n",
       "      <td>1.188669</td>\n",
       "      <td>1</td>\n",
       "      <td>0</td>\n",
       "      <td>6.392885</td>\n",
       "    </tr>\n",
       "    <tr>\n",
       "      <th>80</th>\n",
       "      <td>103.8255</td>\n",
       "      <td>g</td>\n",
       "      <td>6.326691</td>\n",
       "      <td>1.083646</td>\n",
       "      <td>1</td>\n",
       "      <td>0</td>\n",
       "      <td>5.838337</td>\n",
       "    </tr>\n",
       "    <tr>\n",
       "      <th>102</th>\n",
       "      <td>128.7946</td>\n",
       "      <td>g</td>\n",
       "      <td>6.742246</td>\n",
       "      <td>1.139524</td>\n",
       "      <td>1</td>\n",
       "      <td>0</td>\n",
       "      <td>5.916721</td>\n",
       "    </tr>\n",
       "    <tr>\n",
       "      <th>111</th>\n",
       "      <td>134.8044</td>\n",
       "      <td>r</td>\n",
       "      <td>4.329237</td>\n",
       "      <td>0.694385</td>\n",
       "      <td>1</td>\n",
       "      <td>0</td>\n",
       "      <td>6.234635</td>\n",
       "    </tr>\n",
       "  </tbody>\n",
       "</table>\n",
       "</div>"
      ],
      "text/plain": [
       "          mjd band       flux   fluxerr  detected_bool  sid_bool      ratio\n",
       "0      0.0000    r  16.524117  1.365402              1         1  12.102016\n",
       "1      0.0076    g  19.268864  1.173043              1         1  16.426392\n",
       "2      0.0152    i  15.228911  1.769727              1         1   8.605232\n",
       "3      0.0261    z  12.967512  2.605118              1         1   4.977706\n",
       "5      3.0348    r  17.048122  2.450540              1         1   6.956884\n",
       "8      3.0610    z  11.733285  2.517791              1         1   4.660151\n",
       "10    19.9535    u  16.841742  1.869669              1         1   9.007874\n",
       "11    20.9336    u  17.643549  2.503772              1         1   7.046787\n",
       "12    21.9317    u  12.922135  1.962446              1         1   6.584709\n",
       "13    22.9273    u  14.132051  2.489868              1         1   5.675823\n",
       "15    24.9454    u  14.687086  2.737474              1         1   5.365197\n",
       "16    27.9900    r  12.760982  0.929819              1         1  13.724157\n",
       "17    27.9976    g  14.735128  0.944391              1         1  15.602783\n",
       "18    28.0053    i   9.635733  1.511846              1         1   6.373488\n",
       "21    43.9251    r  10.372975  0.857451              1         1  12.097455\n",
       "22    43.9327    g  12.643498  0.834049              1         1  15.159179\n",
       "23    43.9403    i   9.686547  1.325717              1         1   7.306648\n",
       "24    43.9513    z   5.534271  2.166526              1         1   2.554445\n",
       "27    55.8280    r   9.631650  1.228227              1         1   7.841914\n",
       "28    55.8358    g   8.688023  1.342114              1         1   6.473387\n",
       "37    68.7907    r   7.749100  1.086770              1         1   7.130396\n",
       "38    68.7984    g   8.714171  0.985429              1         1   8.843023\n",
       "39    68.8062    i   5.575230  1.539844              1         1   3.620646\n",
       "42    71.7844    r   8.845638  0.976341              1         1   9.059988\n",
       "43    71.7921    g   7.575898  0.833458              1         1   9.089718\n",
       "47    74.7766    r   6.969279  1.044151              1         1   6.674589\n",
       "48    74.7844    g   8.025563  1.050611              1         1   7.638948\n",
       "52    75.8256    u   9.989122  1.660748              1         1   6.014833\n",
       "57    80.7690    u  10.398084  1.912302              1         1   5.437470\n",
       "58    81.7812    u   7.289669  1.415054              1         1   5.151513\n",
       "59    85.8555    r   6.776834  0.772614              1         1   8.771306\n",
       "60    85.8631    g   8.097078  0.895960              1         1   9.037321\n",
       "61    85.8708    i   5.185413  1.140911              1         1   4.544976\n",
       "69    97.8102    r   5.354739  0.825060              1         1   6.490121\n",
       "70    97.8179    g   6.287721  0.713336              1         1   8.814529\n",
       "74   100.8314    r   5.598187  1.365637              1         0   4.099323\n",
       "79   103.8179    r   7.599024  1.188669              1         0   6.392885\n",
       "80   103.8255    g   6.326691  1.083646              1         0   5.838337\n",
       "102  128.7946    g   6.742246  1.139524              1         0   5.916721\n",
       "111  134.8044    r   4.329237  0.694385              1         0   6.234635"
      ]
     },
     "execution_count": 190,
     "metadata": {},
     "output_type": "execute_result"
    }
   ],
   "source": [
    "df[df[\"detected_bool\"]==1]"
   ]
  },
  {
   "cell_type": "code",
   "execution_count": 193,
   "id": "2189e386-6e8f-4952-af6e-201c15d1d8e2",
   "metadata": {},
   "outputs": [
    {
     "data": {
      "text/plain": [
       "103.81030000000281"
      ]
     },
     "execution_count": 193,
     "metadata": {},
     "output_type": "execute_result"
    }
   ],
   "source": [
    "103.8179 - 0.007599999997182749"
   ]
  },
  {
   "cell_type": "code",
   "execution_count": 184,
   "id": "0d58019b-e215-4ff3-aab1-37034f96ed29",
   "metadata": {},
   "outputs": [
    {
     "data": {
      "text/plain": [
       "111.7524000000036"
      ]
     },
     "execution_count": 184,
     "metadata": {},
     "output_type": "execute_result"
    }
   ],
   "source": [
    "845.7416 - 733.9891999999963"
   ]
  },
  {
   "cell_type": "code",
   "execution_count": 133,
   "id": "06be1f4b-1442-43ac-bd80-7fb4b42ae5ed",
   "metadata": {},
   "outputs": [
    {
     "data": {
      "text/plain": [
       "105.77370000000712"
      ]
     },
     "execution_count": 133,
     "metadata": {},
     "output_type": "execute_result"
    }
   ],
   "source": [
    "111.6798 - 5.906099999992875"
   ]
  },
  {
   "cell_type": "code",
   "execution_count": 122,
   "id": "008108ed-7686-43a6-aebc-bf01f2e70012",
   "metadata": {},
   "outputs": [
    {
     "data": {
      "text/plain": [
       "102.80030000000001"
      ]
     },
     "execution_count": 122,
     "metadata": {},
     "output_type": "execute_result"
    }
   ],
   "source": [
    "108.6911 - 5.8908"
   ]
  },
  {
   "cell_type": "code",
   "execution_count": 108,
   "id": "b3c1f99b-f9f3-4474-b666-d3d968fdf9fd",
   "metadata": {},
   "outputs": [
    {
     "data": {
      "text/plain": [
       "-119.84220000000005"
      ]
     },
     "execution_count": 108,
     "metadata": {},
     "output_type": "execute_result"
    }
   ],
   "source": [
    "733.9814 - 853.8236"
   ]
  },
  {
   "cell_type": "code",
   "execution_count": 96,
   "id": "1e8264c2-e454-4343-84a7-48ee90d69f96",
   "metadata": {},
   "outputs": [
    {
     "data": {
      "text/plain": [
       "-105.71120000000002"
      ]
     },
     "execution_count": 96,
     "metadata": {},
     "output_type": "execute_result"
    }
   ],
   "source": [
    "383.0883 - 488.7995"
   ]
  },
  {
   "cell_type": "code",
   "execution_count": 84,
   "id": "c2cc8dc1-f4ff-4cf7-8810-bf3934b718d4",
   "metadata": {},
   "outputs": [
    {
     "data": {
      "text/plain": [
       "115.91980000000001"
      ]
     },
     "execution_count": 84,
     "metadata": {},
     "output_type": "execute_result"
    }
   ],
   "source": [
    "873.7684 - 757.8486"
   ]
  },
  {
   "cell_type": "code",
   "execution_count": 85,
   "id": "f694895b-7504-488e-a9b4-b95329de9263",
   "metadata": {},
   "outputs": [
    {
     "data": {
      "text/plain": [
       "115.80280000000005"
      ]
     },
     "execution_count": 85,
     "metadata": {},
     "output_type": "execute_result"
    }
   ],
   "source": [
    "858.6171 - 742.8143"
   ]
  },
  {
   "cell_type": "code",
   "execution_count": 79,
   "id": "c1fe22cb-7c77-491e-afa1-db8226ee317b",
   "metadata": {},
   "outputs": [
    {
     "data": {
      "text/plain": [
       "103.6712"
      ]
     },
     "execution_count": 79,
     "metadata": {},
     "output_type": "execute_result"
    }
   ],
   "source": [
    "848.6740 - 745.0028"
   ]
  },
  {
   "cell_type": "code",
   "execution_count": null,
   "id": "430cb974-1beb-4b85-ab9f-0eec9b1a975b",
   "metadata": {},
   "outputs": [],
   "source": []
  }
 ],
 "metadata": {
  "kernelspec": {
   "display_name": "Python 3",
   "language": "python",
   "name": "python3"
  },
  "language_info": {
   "codemirror_mode": {
    "name": "ipython",
    "version": 3
   },
   "file_extension": ".py",
   "mimetype": "text/x-python",
   "name": "python",
   "nbconvert_exporter": "python",
   "pygments_lexer": "ipython3",
   "version": "3.8.5"
  }
 },
 "nbformat": 4,
 "nbformat_minor": 5
}
