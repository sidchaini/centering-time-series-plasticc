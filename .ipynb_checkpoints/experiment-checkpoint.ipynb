{
 "cells": [
  {
   "cell_type": "code",
   "execution_count": 1,
   "id": "9384afb2-01d1-43ea-9537-60d0aefe17c7",
   "metadata": {},
   "outputs": [],
   "source": [
    "import numpy as np\n",
    "np.random.seed(42)\n",
    "np.set_printoptions(suppress=True)\n",
    "from scipy.optimize import least_squares, curve_fit\n",
    "from matplotlib import pylab as plt\n",
    "import pandas as pd\n",
    "import glob\n",
    "import time\n",
    "from tqdm.notebook import tqdm\n",
    "import os\n",
    "import random\n",
    "\n",
    "import warnings\n",
    "from scipy.optimize import OptimizeWarning\n",
    "warnings.simplefilter(\"error\", OptimizeWarning)\n",
    "\n",
    "# import seaborn as sns\n",
    "# sns.set()"
   ]
  },
  {
   "cell_type": "code",
   "execution_count": 35,
   "id": "c7c86fd1-190a-4ee3-b1aa-9cdb272dd3e8",
   "metadata": {},
   "outputs": [],
   "source": [
    "def plot_allbands_df(df,title=None,ax=plt):\n",
    "    ugrizYcolors = [\"violet\",\"green\",\"red\",\"darkred\",\"grey\",\"black\"]\n",
    "    for i,band in enumerate(\"ugrizY\"):\n",
    "        subdf = df[df[\"band\"]==band].reset_index(drop=True)\n",
    "        x = subdf[\"mjd\"]\n",
    "        y = subdf[\"flux\"]\n",
    "        yerr = subdf[\"fluxerr\"]\n",
    "        # ax.errorbar(x,y,yerr=yerr,ls = \"None\",color=ugrizYcolors[i])\n",
    "        ax.scatter(x,y,s=1.2,label=band,color=ugrizYcolors[i])\n",
    "        if title is not None:\n",
    "            if ax is not plt:\n",
    "                ax.set_title(title)\n",
    "            else:\n",
    "                ax.title(title)\n",
    "    return ax"
   ]
  },
  {
   "cell_type": "code",
   "execution_count": 3,
   "id": "1291bf47-636e-452b-9d1e-5fce8328d9f0",
   "metadata": {},
   "outputs": [],
   "source": [
    "filels = glob.glob(\"csv_data/*.csv\")"
   ]
  },
  {
   "cell_type": "code",
   "execution_count": 36,
   "id": "14897a87-d421-4041-93f4-73750102f35d",
   "metadata": {},
   "outputs": [
    {
     "data": {
      "text/plain": [
       "<module 'matplotlib.pylab' from '/home/sidchaini/resspect_work/.venvs/newresspect/lib/python3.8/site-packages/matplotlib/pylab.py'>"
      ]
     },
     "execution_count": 36,
     "metadata": {},
     "output_type": "execute_result"
    },
    {
     "data": {
      "image/png": "[encoded data removed]",
      "text/plain": [
       "<Figure size 432x288 with 1 Axes>"
      ]
     },
     "metadata": {
      "needs_background": "light"
     },
     "output_type": "display_data"
    }
   ],
   "source": [
    "plot_allbands_df(df[df[\"band\"]==\"r\"],title=file.split(\"/\")[-1])"
   ]
  },
  {
   "cell_type": "code",
   "execution_count": 79,
   "id": "2b9c2b97-a409-46f1-b71a-e040ac95b47a",
   "metadata": {},
   "outputs": [],
   "source": [
    "def give_detected_info(file,mismatchdict={},plot=False,print_errratiolessthan5=False,print_mismatchcount=False):\n",
    "    title=file.split(\"/\")[-1]\n",
    "    title_class = title.split(\"_\")[-1].split(\".\")[0]\n",
    "    if title_class not in mismatchdict.keys():\n",
    "        mismatchdict[title_class] = 0\n",
    "    \n",
    "    df = pd.read_csv(file)\n",
    "    df[\"mjd\"] = df[\"mjd\"] - df[\"mjd\"][0]\n",
    "    imax = abs(df[\"flux\"]/df[\"fluxerr\"]).argmax()\n",
    "    \n",
    "    if print_errratiolessthan5 and abs(df[\"flux\"]/df[\"fluxerr\"]).max() < 5:\n",
    "        print(title)\n",
    "    \n",
    "    mjdmax = df[\"mjd\"][imax]\n",
    "    df[\"sid_bool\"]=0\n",
    "    df.loc[(df[\"mjd\"] >= mjdmax-100) & (df[\"mjd\"] <= mjdmax+100),\"sid_bool\"] = 1\n",
    "    mismatch_count = len(df.loc[df[\"detected_bool\"] - df[\"sid_bool\"] == 1])\n",
    "\n",
    "    if mismatch_count > 0:\n",
    "        mismatchdict[title_class] = mismatchdict[title_class] + 1\n",
    "        if print_mismatchcount:\n",
    "            print(f\"Mismatch Count = {mismatch_count} for {file.split('/')[-1]}\")\n",
    "    \n",
    "    if plot:\n",
    "        subdf = df[df[\"sid_bool\"] == 1].reset_index(drop=True)\n",
    "        f, (ax1, ax2) = plt.subplots(2,1, sharex=True)\n",
    "        x = df[\"mjd\"]\n",
    "        y = df[\"flux\"]\n",
    "        ax1.scatter(x,y,s=1.2)\n",
    "        plot_allbands_df(subdf,ax=ax2,title=title)\n",
    "\n",
    "        plt.suptitle(file.split(\"/\")[-1])\n",
    "        plt.show()\n",
    "    return mismatchdict"
   ]
  },
  {
   "cell_type": "code",
   "execution_count": 80,
   "id": "aab5d081-160a-4b91-a9af-fd3a6e6ebec3",
   "metadata": {},
   "outputs": [],
   "source": [
    "mismatchdict={}\n",
    "for file in filels:\n",
    "    mismatchdict = give_detected_info(file,mismatchdict)"
   ]
  },
  {
   "cell_type": "code",
   "execution_count": 81,
   "id": "d5e48bdc-f450-4a03-bc95-5cee49d956fb",
   "metadata": {},
   "outputs": [
    {
     "data": {
      "text/plain": [
       "{'SNIa-91bg': 1,\n",
       " 'TDE': 7,\n",
       " 'SNII': 3,\n",
       " 'SNIbc': 0,\n",
       " 'SNIa': 3,\n",
       " 'SLSN-I': 15,\n",
       " 'SNIax': 1,\n",
       " 'AGN': 59}"
      ]
     },
     "execution_count": 81,
     "metadata": {},
     "output_type": "execute_result"
    }
   ],
   "source": [
    "mismatchdict"
   ]
  },
  {
   "cell_type": "code",
   "execution_count": 82,
   "id": "f3b9c966-97cb-41b0-981b-09464ebd3420",
   "metadata": {
    "tags": []
   },
   "outputs": [],
   "source": [
    "# mismatchdict = {}\n",
    "# # for file in random.sample(filels,100):\n",
    "# for file in filels:\n",
    "#     title=file.split(\"/\")[-1]\n",
    "#     title_class = title.split(\"_\")[-1].split(\".\")[0]\n",
    "#     if title_class not in mismatchdict.keys():\n",
    "#         mismatchdict[title_class] = 0\n",
    "# #     f, (ax1, ax2) = plt.subplots(2,1, sharex=True)\n",
    "    \n",
    "#     df = pd.read_csv(file)\n",
    "#     df[\"mjd\"] = df[\"mjd\"] - df[\"mjd\"][0]\n",
    "# #     x = df[\"mjd\"]\n",
    "# #     y = df[\"flux\"]\n",
    "# #     ax1.scatter(x,y,s=1.2)\n",
    "#     imax = abs(df[\"flux\"]/df[\"fluxerr\"]).argmax()\n",
    "# #     if abs(df[\"flux\"]/df[\"fluxerr\"]).max() < 5:\n",
    "# #         print(title)\n",
    "#     mjdmax = df[\"mjd\"][imax]\n",
    "#     df[\"sid_bool\"]=0\n",
    "#     df.loc[(df[\"mjd\"] >= mjdmax-100) & (df[\"mjd\"] <= mjdmax+100),\"sid_bool\"] = 1\n",
    "#     mismatch_count = len(df.loc[df[\"detected_bool\"] - df[\"sid_bool\"] == 1])\n",
    "#     if mismatch_count > 0:\n",
    "#         mismatchdict[title_class] = mismatchdict[title_class] + 1\n",
    "#         print(f\"Mismatch Count = {mismatch_count} for {file.split('/')[-1]}\")\n",
    "    \n",
    "#     subdf = df[df[\"sid_bool\"] == 1].reset_index(drop=True)\n",
    "    \n",
    "# #     plot_allbands_df(subdf,ax=ax2,title=title)\n",
    "    \n",
    "# #     plt.suptitle(file.split(\"/\")[-1])\n",
    "# #     plt.show()"
   ]
  },
  {
   "cell_type": "code",
   "execution_count": 83,
   "id": "b174e961-b1ab-42fd-9d36-918212a712a3",
   "metadata": {},
   "outputs": [],
   "source": [
    "# plot_allbands_df(pd.read_csv(\"csv_data/339740_TDE.csv\")).show()"
   ]
  },
  {
   "cell_type": "code",
   "execution_count": null,
   "id": "8928024e-1482-471c-803f-ea6380c6a0f7",
   "metadata": {},
   "outputs": [],
   "source": []
  }
 ],
 "metadata": {
  "kernelspec": {
   "display_name": "Python 3",
   "language": "python",
   "name": "python3"
  },
  "language_info": {
   "codemirror_mode": {
    "name": "ipython",
    "version": 3
   },
   "file_extension": ".py",
   "mimetype": "text/x-python",
   "name": "python",
   "nbconvert_exporter": "python",
   "pygments_lexer": "ipython3",
   "version": "3.8.5"
  }
 },
 "nbformat": 4,
 "nbformat_minor": 5
}
