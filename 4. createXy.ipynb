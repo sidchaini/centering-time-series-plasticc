{
 "cells": [
  {
   "cell_type": "code",
   "execution_count": 1,
   "id": "be1e8b5b-fcd9-46c7-9780-c1288b1d8da0",
   "metadata": {},
   "outputs": [],
   "source": [
    "import numpy as np\n",
    "np.random.seed(42)\n",
    "np.set_printoptions(suppress=True)\n",
    "from scipy.optimize import least_squares, curve_fit\n",
    "from matplotlib import pylab as plt\n",
    "import pandas as pd\n",
    "import glob\n",
    "import time\n",
    "from tqdm.notebook import tqdm\n",
    "import os\n",
    "import random\n",
    "\n",
    "import warnings\n",
    "from scipy.optimize import OptimizeWarning\n",
    "warnings.simplefilter(\"error\", OptimizeWarning)\n",
    "\n",
    "import seaborn as sns\n",
    "sns.set()"
   ]
  },
  {
   "cell_type": "code",
   "execution_count": 2,
   "id": "43fbe19c-5597-45dd-8f79-f12d0c178e45",
   "metadata": {},
   "outputs": [],
   "source": [
    "filels = glob.glob(\"preprocessed_csv_data/*.csv\")"
   ]
  },
  {
   "cell_type": "code",
   "execution_count": 3,
   "id": "5456ba86-caca-45b1-a16f-758d32d3bfe2",
   "metadata": {},
   "outputs": [
    {
     "data": {
      "application/vnd.jupyter.widget-view+json": {
       "model_id": "c17246cebbd641e291887720581d9180",
       "version_major": 2,
       "version_minor": 0
      },
      "text/plain": [
       "  0%|          | 0/480 [00:00<?, ?it/s]"
      ]
     },
     "metadata": {},
     "output_type": "display_data"
    }
   ],
   "source": [
    "X = []\n",
    "y = []\n",
    "objlist = []\n",
    "for file in tqdm(filels):\n",
    "    df = pd.read_csv(file)\n",
    "    df = df.fillna(0)\n",
    "    X.append(df.to_numpy())\n",
    "    y.append(file.split(\"/\")[-1].split(\"_\")[-1].split(\".csv\")[0])\n",
    "    objlist.append(file.split(\"/\")[-1].split(\"_\")[0])\n",
    "X = np.array(X)\n",
    "y = np.array(y)\n",
    "objlist = np.array(objlist)"
   ]
  },
  {
   "cell_type": "code",
   "execution_count": 4,
   "id": "bd353499-fb60-4bb7-bc4d-905d1856d3c4",
   "metadata": {},
   "outputs": [],
   "source": [
    "if not os.path.isdir(\"np_arrays\"):\n",
    "    os.mkdir(\"np_arrays\")"
   ]
  },
  {
   "cell_type": "code",
   "execution_count": 5,
   "id": "74466c32-be38-4501-a8c6-acf0045cc216",
   "metadata": {},
   "outputs": [],
   "source": [
    "np.save(\"np_arrays/X.npy\",X)\n",
    "np.save(\"np_arrays/y.npy\",y)\n",
    "np.save(\"np_arrays/objlist.npy\",objlist)"
   ]
  }
 ],
 "metadata": {
  "kernelspec": {
   "display_name": "Python 3",
   "language": "python",
   "name": "python3"
  },
  "language_info": {
   "codemirror_mode": {
    "name": "ipython",
    "version": 3
   },
   "file_extension": ".py",
   "mimetype": "text/x-python",
   "name": "python",
   "nbconvert_exporter": "python",
   "pygments_lexer": "ipython3",
   "version": "3.8.5"
  }
 },
 "nbformat": 4,
 "nbformat_minor": 5
}
