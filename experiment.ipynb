{
 "cells": [
  {
   "cell_type": "code",
   "execution_count": 1,
   "id": "9384afb2-01d1-43ea-9537-60d0aefe17c7",
   "metadata": {},
   "outputs": [],
   "source": [
    "import numpy as np\n",
    "np.random.seed(42)\n",
    "np.set_printoptions(suppress=True)\n",
    "from scipy.optimize import least_squares, curve_fit\n",
    "from matplotlib import pylab as plt\n",
    "import pandas as pd\n",
    "import glob\n",
    "import time\n",
    "from tqdm.notebook import tqdm\n",
    "import os\n",
    "import random\n",
    "\n",
    "import warnings\n",
    "from scipy.optimize import OptimizeWarning\n",
    "warnings.simplefilter(\"error\", OptimizeWarning)\n",
    "\n",
    "# import seaborn as sns\n",
    "# sns.set()"
   ]
  },
  {
   "cell_type": "code",
   "execution_count": 75,
   "id": "c7c86fd1-190a-4ee3-b1aa-9cdb272dd3e8",
   "metadata": {},
   "outputs": [],
   "source": [
    "def plot_allbands_df(df,title=None,ax=plt):\n",
    "    ugrizYcolors = [\"violet\",\"green\",\"red\",\"darkred\",\"grey\",\"black\"]\n",
    "    for i,band in enumerate(\"ugrizY\"):\n",
    "        subdf = df[df[\"band\"]==band].reset_index(drop=True)\n",
    "        x = subdf[\"mjd\"]\n",
    "        y = subdf[\"flux\"]\n",
    "        yerr = subdf[\"fluxerr\"]\n",
    "#         ax.errorbar(x,y,yerr=yerr,ls = \"None\",color=ugrizYcolors[i])\n",
    "        ax.scatter(x,y,s=5,label=band,color=ugrizYcolors[i])\n",
    "        if title is not None:\n",
    "            if ax is not plt:\n",
    "                ax.set_title(title)\n",
    "            else:\n",
    "                ax.title(title)\n",
    "    return ax"
   ]
  },
  {
   "cell_type": "code",
   "execution_count": 3,
   "id": "1291bf47-636e-452b-9d1e-5fce8328d9f0",
   "metadata": {},
   "outputs": [],
   "source": [
    "filels = glob.glob(\"csv_data/*.csv\")"
   ]
  },
  {
   "cell_type": "code",
   "execution_count": 4,
   "id": "5e7455b0-98fd-494c-bfaa-4c33d2b7c96c",
   "metadata": {},
   "outputs": [],
   "source": [
    "# df = pd.read_csv(\"csv_data/122615_TDE.csv\")"
   ]
  },
  {
   "cell_type": "code",
   "execution_count": 5,
   "id": "2b9c2b97-a409-46f1-b71a-e040ac95b47a",
   "metadata": {},
   "outputs": [],
   "source": [
    "def give_detected_info(file,mismatchdict={},plot=False,print_errratiolessthan5=False,print_mismatchcount=False,\n",
    "                      print_imaxmjdmax=False):\n",
    "    title=file.split(\"/\")[-1]\n",
    "    title_class = title.split(\"_\")[-1].split(\".\")[0]\n",
    "    if title_class not in mismatchdict.keys():\n",
    "        mismatchdict[title_class] = 0\n",
    "    \n",
    "    df = pd.read_csv(file)\n",
    "    df[\"mjd\"] = df[\"mjd\"] - df[\"mjd\"][0]\n",
    "    imax = abs(df[\"flux\"]/df[\"fluxerr\"]).argmax()\n",
    "    \n",
    "    if print_errratiolessthan5 and abs(df[\"flux\"]/df[\"fluxerr\"]).max() < 5:\n",
    "        print(title)\n",
    "    \n",
    "    mjdmax = df[\"mjd\"][imax]\n",
    "    if print_imaxmjdmax:\n",
    "        print(f\"imax = {imax}\\nmjdmax={mjdmax}\")\n",
    "    df[\"sid_bool\"]=0\n",
    "    df.loc[(df[\"mjd\"] >= mjdmax-100) & (df[\"mjd\"] <= mjdmax+120),\"sid_bool\"] = 1\n",
    "    mismatch_count = len(df.loc[df[\"detected_bool\"] - df[\"sid_bool\"] == 1])\n",
    "\n",
    "    if mismatch_count > 0:\n",
    "        mismatchdict[title_class] = mismatchdict[title_class] + 1\n",
    "        if print_mismatchcount:\n",
    "            print(f\"Mismatch Count = {mismatch_count} for {file.split('/')[-1]}\")\n",
    "    \n",
    "    if plot:\n",
    "        subdf = df[df[\"sid_bool\"] == 1].reset_index(drop=True)\n",
    "        f, (ax1, ax2) = plt.subplots(2,1, sharex=True)\n",
    "        x = df[\"mjd\"]\n",
    "        y = df[\"flux\"]\n",
    "        ax1.scatter(x,y,s=1.2)\n",
    "        plot_allbands_df(subdf,ax=ax2,title=title)\n",
    "\n",
    "        plt.suptitle(file.split(\"/\")[-1])\n",
    "        plt.show()\n",
    "    return mismatchdict"
   ]
  },
  {
   "cell_type": "code",
   "execution_count": 6,
   "id": "aab5d081-160a-4b91-a9af-fd3a6e6ebec3",
   "metadata": {},
   "outputs": [
    {
     "name": "stdout",
     "output_type": "stream",
     "text": [
      "Mismatch Count = 62 for 227152_AGN.csv\n",
      "Mismatch Count = 1 for 69795_AGN.csv\n",
      "Mismatch Count = 75 for 272103_AGN.csv\n",
      "Mismatch Count = 68 for 204227_AGN.csv\n",
      "Mismatch Count = 1 for 299008_TDE.csv\n",
      "Mismatch Count = 39 for 220372_AGN.csv\n",
      "Mismatch Count = 1 for 221529_SLSN-I.csv\n",
      "Mismatch Count = 111 for 281587_AGN.csv\n",
      "Mismatch Count = 116 for 75803_AGN.csv\n",
      "Mismatch Count = 177 for 198396_AGN.csv\n",
      "Mismatch Count = 7 for 267239_AGN.csv\n",
      "Mismatch Count = 131 for 91871_AGN.csv\n",
      "Mismatch Count = 2 for 276084_SLSN-I.csv\n",
      "Mismatch Count = 59 for 315884_AGN.csv\n",
      "Mismatch Count = 44 for 94074_AGN.csv\n",
      "Mismatch Count = 35 for 287551_AGN.csv\n",
      "Mismatch Count = 7 for 321618_AGN.csv\n",
      "Mismatch Count = 121 for 231183_AGN.csv\n",
      "Mismatch Count = 41 for 222829_AGN.csv\n",
      "Mismatch Count = 1 for 318874_SLSN-I.csv\n",
      "Mismatch Count = 39 for 266706_AGN.csv\n",
      "Mismatch Count = 10 for 239384_AGN.csv\n",
      "Mismatch Count = 46 for 175848_AGN.csv\n",
      "Mismatch Count = 14 for 317857_AGN.csv\n",
      "Mismatch Count = 3 for 53377_SLSN-I.csv\n",
      "Mismatch Count = 40 for 169239_AGN.csv\n",
      "Mismatch Count = 55 for 103126_AGN.csv\n",
      "Mismatch Count = 1 for 31738_AGN.csv\n",
      "Mismatch Count = 2 for 230350_TDE.csv\n",
      "Mismatch Count = 167 for 91264_AGN.csv\n",
      "Mismatch Count = 33 for 136892_AGN.csv\n",
      "Mismatch Count = 68 for 56986_AGN.csv\n",
      "Mismatch Count = 20 for 328406_AGN.csv\n",
      "Mismatch Count = 24 for 267376_AGN.csv\n",
      "Mismatch Count = 69 for 93074_AGN.csv\n",
      "Mismatch Count = 1 for 339740_TDE.csv\n",
      "Mismatch Count = 43 for 209780_AGN.csv\n",
      "Mismatch Count = 9 for 69990_AGN.csv\n",
      "Mismatch Count = 34 for 136418_AGN.csv\n",
      "Mismatch Count = 77 for 235595_AGN.csv\n",
      "Mismatch Count = 58 for 137797_AGN.csv\n",
      "Mismatch Count = 33 for 203450_AGN.csv\n",
      "Mismatch Count = 22 for 29566_AGN.csv\n",
      "Mismatch Count = 19 for 23667_AGN.csv\n",
      "Mismatch Count = 103 for 250282_AGN.csv\n",
      "Mismatch Count = 77 for 295853_AGN.csv\n",
      "Mismatch Count = 103 for 334142_AGN.csv\n",
      "Mismatch Count = 2 for 30998_SLSN-I.csv\n",
      "Mismatch Count = 8 for 247329_TDE.csv\n",
      "Mismatch Count = 73 for 305554_AGN.csv\n",
      "Mismatch Count = 7 for 255926_AGN.csv\n",
      "Mismatch Count = 192 for 151888_AGN.csv\n",
      "Mismatch Count = 77 for 2661_AGN.csv\n",
      "Mismatch Count = 26 for 107495_AGN.csv\n",
      "Mismatch Count = 6 for 111076_AGN.csv\n",
      "Mismatch Count = 5 for 211276_TDE.csv\n",
      "Mismatch Count = 15 for 216667_AGN.csv\n",
      "Mismatch Count = 170 for 273648_AGN.csv\n",
      "Mismatch Count = 5 for 137128_SLSN-I.csv\n",
      "Mismatch Count = 1 for 284917_SNIa.csv\n",
      "Mismatch Count = 2 for 252323_AGN.csv\n",
      "Mismatch Count = 5 for 183631_AGN.csv\n",
      "Mismatch Count = 37 for 106269_SLSN-I.csv\n",
      "Mismatch Count = 6 for 212132_AGN.csv\n",
      "Mismatch Count = 16 for 247064_AGN.csv\n",
      "Mismatch Count = 3 for 160306_AGN.csv\n",
      "Mismatch Count = 153 for 146937_AGN.csv\n",
      "Mismatch Count = 66 for 168597_AGN.csv\n",
      "Mismatch Count = 3 for 206976_SLSN-I.csv\n",
      "Mismatch Count = 3 for 79319_AGN.csv\n",
      "Mismatch Count = 65 for 311198_AGN.csv\n",
      "Mismatch Count = 20 for 168034_SLSN-I.csv\n",
      "Mismatch Count = 14 for 49733_AGN.csv\n",
      "Mismatch Count = 41 for 72934_AGN.csv\n"
     ]
    }
   ],
   "source": [
    "mismatchdict={}\n",
    "for file in filels:\n",
    "    mismatchdict = give_detected_info(file,mismatchdict,print_mismatchcount=True)\n",
    "#     mismatchdict = give_detected_info(file,mismatchdict,print_errratiolessthan5=True)    "
   ]
  },
  {
   "cell_type": "code",
   "execution_count": 7,
   "id": "d5e48bdc-f450-4a03-bc95-5cee49d956fb",
   "metadata": {},
   "outputs": [
    {
     "data": {
      "text/plain": [
       "{'SNIa-91bg': 0,\n",
       " 'TDE': 5,\n",
       " 'SNII': 0,\n",
       " 'SNIbc': 0,\n",
       " 'SNIa': 1,\n",
       " 'SLSN-I': 9,\n",
       " 'SNIax': 0,\n",
       " 'AGN': 59}"
      ]
     },
     "execution_count": 7,
     "metadata": {},
     "output_type": "execute_result"
    }
   ],
   "source": [
    "mismatchdict"
   ]
  },
  {
   "cell_type": "markdown",
   "id": "c0e3fb15-c7f1-4e7e-84e1-040799e02ca4",
   "metadata": {},
   "source": [
    "## New"
   ]
  },
  {
   "cell_type": "code",
   "execution_count": 8,
   "id": "c82eaa88-8000-4a41-b707-95f525932169",
   "metadata": {},
   "outputs": [
    {
     "name": "stdout",
     "output_type": "stream",
     "text": [
      "ratio3bool\n",
      "Heuristic Criteria is at least 3 observations within 5 days having flux-fluxerr ratio > 2\n",
      "mjdstart = v.mjd.values[0]\n",
      "Range: mjdstart - 85 to mjdstart + 25\n"
     ]
    }
   ],
   "source": [
    "print(\"ratio3bool\")\n",
    "print(\"Heuristic Criteria is at least 3 observations within 5 days having flux-fluxerr ratio > 2\")\n",
    "\n",
    "print(\"mjdstart = v.mjd.values[0]\")\n",
    "print(\"Range: mjdstart - 100 to mjdstart + 100\")"
   ]
  },
  {
   "cell_type": "code",
   "execution_count": 52,
   "id": "0bdfc18a-5d30-4acc-b0ad-7f42cb87c05a",
   "metadata": {},
   "outputs": [
    {
     "data": {
      "text/html": [
       "<div>\n",
       "<style scoped>\n",
       "    .dataframe tbody tr th:only-of-type {\n",
       "        vertical-align: middle;\n",
       "    }\n",
       "\n",
       "    .dataframe tbody tr th {\n",
       "        vertical-align: top;\n",
       "    }\n",
       "\n",
       "    .dataframe thead th {\n",
       "        text-align: right;\n",
       "    }\n",
       "</style>\n",
       "<table border=\"1\" class=\"dataframe\">\n",
       "  <thead>\n",
       "    <tr style=\"text-align: right;\">\n",
       "      <th></th>\n",
       "      <th>mjd</th>\n",
       "      <th>band</th>\n",
       "      <th>flux</th>\n",
       "      <th>fluxerr</th>\n",
       "      <th>detected_bool</th>\n",
       "      <th>ratio</th>\n",
       "      <th>ratio2bool</th>\n",
       "    </tr>\n",
       "  </thead>\n",
       "  <tbody>\n",
       "    <tr>\n",
       "      <th>0</th>\n",
       "      <td>0.0000</td>\n",
       "      <td>u</td>\n",
       "      <td>-0.077583</td>\n",
       "      <td>2.732805</td>\n",
       "      <td>0</td>\n",
       "      <td>0.028390</td>\n",
       "      <td>0</td>\n",
       "    </tr>\n",
       "    <tr>\n",
       "      <th>1</th>\n",
       "      <td>0.9127</td>\n",
       "      <td>u</td>\n",
       "      <td>0.079472</td>\n",
       "      <td>2.414393</td>\n",
       "      <td>0</td>\n",
       "      <td>0.032916</td>\n",
       "      <td>0</td>\n",
       "    </tr>\n",
       "    <tr>\n",
       "      <th>2</th>\n",
       "      <td>1.9150</td>\n",
       "      <td>u</td>\n",
       "      <td>-2.951252</td>\n",
       "      <td>2.438854</td>\n",
       "      <td>0</td>\n",
       "      <td>1.210098</td>\n",
       "      <td>0</td>\n",
       "    </tr>\n",
       "    <tr>\n",
       "      <th>3</th>\n",
       "      <td>2.9081</td>\n",
       "      <td>u</td>\n",
       "      <td>-5.502644</td>\n",
       "      <td>2.785080</td>\n",
       "      <td>0</td>\n",
       "      <td>1.975758</td>\n",
       "      <td>0</td>\n",
       "    </tr>\n",
       "    <tr>\n",
       "      <th>4</th>\n",
       "      <td>3.9089</td>\n",
       "      <td>u</td>\n",
       "      <td>-3.212003</td>\n",
       "      <td>3.202566</td>\n",
       "      <td>0</td>\n",
       "      <td>1.002947</td>\n",
       "      <td>0</td>\n",
       "    </tr>\n",
       "    <tr>\n",
       "      <th>...</th>\n",
       "      <td>...</td>\n",
       "      <td>...</td>\n",
       "      <td>...</td>\n",
       "      <td>...</td>\n",
       "      <td>...</td>\n",
       "      <td>...</td>\n",
       "      <td>...</td>\n",
       "    </tr>\n",
       "    <tr>\n",
       "      <th>250</th>\n",
       "      <td>851.6723</td>\n",
       "      <td>i</td>\n",
       "      <td>-0.424188</td>\n",
       "      <td>1.283293</td>\n",
       "      <td>0</td>\n",
       "      <td>0.330546</td>\n",
       "      <td>0</td>\n",
       "    </tr>\n",
       "    <tr>\n",
       "      <th>251</th>\n",
       "      <td>851.6833</td>\n",
       "      <td>z</td>\n",
       "      <td>1.133317</td>\n",
       "      <td>1.964738</td>\n",
       "      <td>0</td>\n",
       "      <td>0.576829</td>\n",
       "      <td>0</td>\n",
       "    </tr>\n",
       "    <tr>\n",
       "      <th>252</th>\n",
       "      <td>851.6942</td>\n",
       "      <td>Y</td>\n",
       "      <td>-1.031761</td>\n",
       "      <td>4.901828</td>\n",
       "      <td>0</td>\n",
       "      <td>0.210485</td>\n",
       "      <td>0</td>\n",
       "    </tr>\n",
       "    <tr>\n",
       "      <th>253</th>\n",
       "      <td>853.6575</td>\n",
       "      <td>u</td>\n",
       "      <td>0.655737</td>\n",
       "      <td>2.508223</td>\n",
       "      <td>0</td>\n",
       "      <td>0.261435</td>\n",
       "      <td>0</td>\n",
       "    </tr>\n",
       "    <tr>\n",
       "      <th>254</th>\n",
       "      <td>854.6558</td>\n",
       "      <td>u</td>\n",
       "      <td>2.990118</td>\n",
       "      <td>2.886368</td>\n",
       "      <td>0</td>\n",
       "      <td>1.035945</td>\n",
       "      <td>0</td>\n",
       "    </tr>\n",
       "  </tbody>\n",
       "</table>\n",
       "<p>255 rows × 7 columns</p>\n",
       "</div>"
      ],
      "text/plain": [
       "          mjd band      flux   fluxerr  detected_bool     ratio  ratio2bool\n",
       "0      0.0000    u -0.077583  2.732805              0  0.028390           0\n",
       "1      0.9127    u  0.079472  2.414393              0  0.032916           0\n",
       "2      1.9150    u -2.951252  2.438854              0  1.210098           0\n",
       "3      2.9081    u -5.502644  2.785080              0  1.975758           0\n",
       "4      3.9089    u -3.212003  3.202566              0  1.002947           0\n",
       "..        ...  ...       ...       ...            ...       ...         ...\n",
       "250  851.6723    i -0.424188  1.283293              0  0.330546           0\n",
       "251  851.6833    z  1.133317  1.964738              0  0.576829           0\n",
       "252  851.6942    Y -1.031761  4.901828              0  0.210485           0\n",
       "253  853.6575    u  0.655737  2.508223              0  0.261435           0\n",
       "254  854.6558    u  2.990118  2.886368              0  1.035945           0\n",
       "\n",
       "[255 rows x 7 columns]"
      ]
     },
     "execution_count": 52,
     "metadata": {},
     "output_type": "execute_result"
    }
   ],
   "source": [
    "df"
   ]
  },
  {
   "cell_type": "code",
   "execution_count": 89,
   "id": "727d2df7-11cb-4b8d-8768-f1903fcca939",
   "metadata": {},
   "outputs": [
    {
     "data": {
      "text/plain": [
       "7           NaN\n",
       "19       6.0672\n",
       "81     353.0381\n",
       "101     28.8194\n",
       "126     39.9442\n",
       "159     55.8805\n",
       "161      0.0152\n",
       "162      0.0110\n",
       "164      4.9718\n",
       "166      0.0152\n",
       "167      0.0109\n",
       "175    253.1801\n",
       "196     28.9279\n",
       "249     74.8771\n",
       "Name: mjd, dtype: float64"
      ]
     },
     "execution_count": 89,
     "metadata": {},
     "output_type": "execute_result"
    }
   ],
   "source": [
    "subdf_ratio2[\"mjd\"].diff()"
   ]
  },
  {
   "cell_type": "code",
   "execution_count": 88,
   "id": "762377e7-4bb5-4daf-96c6-472e6213d063",
   "metadata": {},
   "outputs": [
    {
     "name": "stdout",
     "output_type": "stream",
     "text": [
      "Group 5\n",
      "          mjd band       flux   fluxerr  detected_bool     ratio\n",
      "161  489.6707    i  11.404893  2.051769              1  5.558566\n",
      "162  489.6817    z  10.704266  2.395172              0  4.469101 \n",
      "\n",
      "Group 6\n",
      "          mjd band      flux   fluxerr  detected_bool     ratio\n",
      "166  494.6687    i  5.470729  1.147357              0  4.768114\n",
      "167  494.6796    z  9.996272  1.821012              1  5.489405 \n",
      "\n"
     ]
    }
   ],
   "source": [
    "for k, v in subdf_ratio2[subdf_ratio2[\"mjd\"].diff()<3].groupby((subdf_ratio2[\"mjd\"].diff()>=3).cumsum()):\n",
    "    print(\"Group\",k)\n",
    "    print(v,\"\\n\")"
   ]
  },
  {
   "cell_type": "code",
   "execution_count": 76,
   "id": "62f7ab51-ec42-456a-9646-9fa80f4c188b",
   "metadata": {},
   "outputs": [],
   "source": [
    "def give_detected_info2(file,mismatchdict={},plot=False,print_mismatchcount=False,\n",
    "                      print_mjdmax=False):\n",
    "    title=file.split(\"/\")[-1]\n",
    "    title_class = title.split(\"_\")[-1].split(\".\")[0]\n",
    "    if title_class not in mismatchdict.keys():\n",
    "        mismatchdict[title_class] = 0\n",
    "    \n",
    "    df = pd.read_csv(file)\n",
    "    df[\"mjd\"] = df[\"mjd\"] - df[\"mjd\"][0]\n",
    "    df[\"ratio\"] = abs(df[\"flux\"]/df[\"fluxerr\"])\n",
    "        \n",
    "    subdf_detected = df[df[\"detected_bool\"]==1]\n",
    "    subdf_ratio2 = df[df[\"ratio\"]>=2]\n",
    "    \n",
    "    \n",
    "    df[\"ratio2bool\"] = 0\n",
    "    # https://towardsdatascience.com/pandas-dataframe-group-by-consecutive-certain-values-a6ed8e5d8cc\n",
    "\n",
    "    for k, v in subdf_ratio2[subdf_ratio2[\"mjd\"].diff()<3].groupby((subdf_ratio2[\"mjd\"].diff()>=3).cumsum()):\n",
    "        if len(v)>=3:\n",
    "            mjdstart = v.mjd.values[0]\n",
    "            break\n",
    "    try:\n",
    "        mjdstart\n",
    "    except:\n",
    "        mjdstart = 0\n",
    "    df.loc[(df[\"mjd\"] >= mjdstart-100) & (df[\"mjd\"] <= mjdstart+100),\"ratio2bool\"] = 1\n",
    "    \n",
    "    mjdmax = mjdstart\n",
    "    \n",
    "    if print_mjdmax:\n",
    "        print(f\"mjdmax={mjdmax}\")\n",
    "    mismatch_count = len(df.loc[df[\"detected_bool\"] - df[\"ratio2bool\"] == 1])\n",
    "\n",
    "    if mismatch_count > 0:\n",
    "        mismatchdict[title_class] = mismatchdict[title_class] + 1\n",
    "        if print_mismatchcount:\n",
    "            print(f\"Mismatch Count = {mismatch_count} for {file.split('/')[-1]}\")\n",
    "    \n",
    "    if plot:\n",
    "        subdf = df[df[\"ratio2bool\"] == 1].reset_index(drop=True)\n",
    "        f, (ax1, ax2) = plt.subplots(1,2,sharey=True,figsize=(12,4))\n",
    "#         x = df[\"mjd\"]\n",
    "#         y = df[\"flux\"]\n",
    "#         ax1.scatter(x,y,s=1.2)\n",
    "        subdf2 = df[df[\"detected_bool\"] == 1].reset_index(drop=True)\n",
    "        plot_allbands_df(subdf2,ax=ax1,title=title+\"_detectedbool\")\n",
    "        plot_allbands_df(subdf,ax=ax2,title=title+\"_ratio2bool\")\n",
    "\n",
    "        plt.suptitle(file.split(\"/\")[-1])\n",
    "        plt.show()\n",
    "    return mismatchdict"
   ]
  },
  {
   "cell_type": "code",
   "execution_count": 77,
   "id": "52ed1127-a2ac-49d9-a12f-e7051868afce",
   "metadata": {},
   "outputs": [
    {
     "data": {
      "image/png": "[encoded data removed]",
      "text/plain": [
       "<Figure size 864x288 with 2 Axes>"
      ]
     },
     "metadata": {
      "needs_background": "light"
     },
     "output_type": "display_data"
    },
    {
     "data": {
      "image/png": "[encoded data removed]",
      "text/plain": [
       "<Figure size 864x288 with 2 Axes>"
      ]
     },
     "metadata": {
      "needs_background": "light"
     },
     "output_type": "display_data"
    },
    {
     "data": {
      "image/png": "[encoded data removed]",
      "text/plain": [
       "<Figure size 864x288 with 2 Axes>"
      ]
     },
     "metadata": {
      "needs_background": "light"
     },
     "output_type": "display_data"
    },
    {
     "data": {
      "image/png": "[encoded data removed]",
      "text/plain": [
       "<Figure size 864x288 with 2 Axes>"
      ]
     },
     "metadata": {
      "needs_background": "light"
     },
     "output_type": "display_data"
    },
    {
     "data": {
      "image/png": "[encoded data removed]",
      "text/plain": [
       "<Figure size 864x288 with 2 Axes>"
      ]
     },
     "metadata": {
      "needs_background": "light"
     },
     "output_type": "display_data"
    },
    {
     "data": {
      "image/png": "[encoded data removed]",
      "text/plain": [
       "<Figure size 864x288 with 2 Axes>"
      ]
     },
     "metadata": {
      "needs_background": "light"
     },
     "output_type": "display_data"
    },
    {
     "data": {
      "image/png": "[encoded data removed]",
      "text/plain": [
       "<Figure size 864x288 with 2 Axes>"
      ]
     },
     "metadata": {
      "needs_background": "light"
     },
     "output_type": "display_data"
    },
    {
     "data": {
      "image/png": "[encoded data removed]",
      "text/plain": [
       "<Figure size 864x288 with 2 Axes>"
      ]
     },
     "metadata": {
      "needs_background": "light"
     },
     "output_type": "display_data"
    },
    {
     "data": {
      "image/png": "[encoded data removed]",
      "text/plain": [
       "<Figure size 864x288 with 2 Axes>"
      ]
     },
     "metadata": {
      "needs_background": "light"
     },
     "output_type": "display_data"
    },
    {
     "data": {
      "image/png": "[encoded data removed]",
      "text/plain": [
       "<Figure size 864x288 with 2 Axes>"
      ]
     },
     "metadata": {
      "needs_background": "light"
     },
     "output_type": "display_data"
    }
   ],
   "source": [
    "mismatchdict={}\n",
    "# for file in tqdm(filels):\n",
    "for file in random.sample(filels,10):\n",
    "    mismatchdict = give_detected_info2(file,mismatchdict,plot=True)"
   ]
  },
  {
   "cell_type": "code",
   "execution_count": 78,
   "id": "b5967b8b-e353-477c-b86f-6fd2a339a0d2",
   "metadata": {},
   "outputs": [
    {
     "data": {
      "text/plain": [
       "{'AGN': 3,\n",
       " 'SNII': 0,\n",
       " 'SNIbc': 0,\n",
       " 'TDE': 1,\n",
       " 'SNIa': 0,\n",
       " 'SNIax': 0,\n",
       " 'SNIa-91bg': 0}"
      ]
     },
     "execution_count": 78,
     "metadata": {},
     "output_type": "execute_result"
    }
   ],
   "source": [
    "mismatchdict"
   ]
  },
  {
   "cell_type": "code",
   "execution_count": 200,
   "id": "73251483-1093-4b3c-966f-842754ef3df0",
   "metadata": {},
   "outputs": [],
   "source": [
    "# for file in random.sample(filels,5):\n",
    "#     fname = file.split(\"/\")[-1]\n",
    "#     df = pd.read_csv(file)\n",
    "#     df[\"mjd\"] = df[\"mjd\"] - df[\"mjd\"][0]\n",
    "#     df[\"ratio\"] = abs(df[\"flux\"]/df[\"fluxerr\"])\n",
    "\n",
    "#     imax = abs(df[\"flux\"]/df[\"fluxerr\"]).argmax()\n",
    "    \n",
    "    \n",
    "#     mjdmax = df[\"mjd\"][imax]\n",
    "#     df[\"sid_bool\"]=0\n",
    "#     df.loc[(df[\"mjd\"] >= mjdmax-100) & (df[\"mjd\"] <= mjdmax+120),\"sid_bool\"] = 1\n",
    "\n",
    "#     subdf_detected = df[df[\"detected_bool\"]==1]\n",
    "#     subdf_ratio2 = df[df[\"ratio\"]>=2]\n",
    "#     subdf_sidbool = df[df[\"sid_bool\"]==1]\n",
    "    \n",
    "    \n",
    "#     df[\"ratio3bool\"] = 0\n",
    "#     # https://towardsdatascience.com/pandas-dataframe-group-by-consecutive-certain-values-a6ed8e5d8cc\n",
    "\n",
    "#     for k, v in subdf_ratio2[subdf_ratio2[\"mjd\"].diff()<3].groupby((subdf_ratio2[\"mjd\"].diff()>=3).cumsum()):\n",
    "#         if len(v)<3:\n",
    "#             continue\n",
    "#         mjdstart = v.mjd.values[0]\n",
    "#         break\n",
    "#     df.loc[(df[\"mjd\"] >= mjdstart-100) & (df[\"mjd\"] <= mjdstart+100),\"ratio3bool\"] = 1\n",
    "\n",
    "#     break"
   ]
  },
  {
   "cell_type": "code",
   "execution_count": 203,
   "id": "bc53cb96-1890-42e1-a0c9-4022d01de04b",
   "metadata": {},
   "outputs": [
    {
     "name": "stdout",
     "output_type": "stream",
     "text": [
      "fname=183631_AGN.csv\n",
      "SIDBOOL: mjdmax=40.769500000002154, imax=31\n",
      "RATBOOL: mjdstart=0.0078000000066822395\n"
     ]
    }
   ],
   "source": [
    "print(f\"fname={fname}\")\n",
    "print(f\"SIDBOOL: mjdmax={mjdmax}, imax={imax}\")\n",
    "print(f\"RATBOOL: mjdstart={mjdstart}\")"
   ]
  },
  {
   "cell_type": "code",
   "execution_count": 105,
   "id": "8345ffde-304b-406d-91d2-1979bb399b29",
   "metadata": {},
   "outputs": [],
   "source": [
    "df = pd.read_csv(\"csv_data/39345_SNII.csv\")\n",
    "df[\"ratio\"] = abs(df[\"flux\"]/df[\"fluxerr\"])"
   ]
  },
  {
   "cell_type": "code",
   "execution_count": 106,
   "id": "5a94bec3-9161-4f95-be4a-d79d52a0afa9",
   "metadata": {},
   "outputs": [],
   "source": [
    "subdf_detected = df[df[\"detected_bool\"]==1]\n",
    "subdf_ratio3 = df[df[\"ratio\"]>=3]"
   ]
  },
  {
   "cell_type": "code",
   "execution_count": 107,
   "id": "8a6f26e7-3beb-47d4-bb11-fb1467077917",
   "metadata": {},
   "outputs": [
    {
     "data": {
      "text/html": [
       "<div>\n",
       "<style scoped>\n",
       "    .dataframe tbody tr th:only-of-type {\n",
       "        vertical-align: middle;\n",
       "    }\n",
       "\n",
       "    .dataframe tbody tr th {\n",
       "        vertical-align: top;\n",
       "    }\n",
       "\n",
       "    .dataframe thead th {\n",
       "        text-align: right;\n",
       "    }\n",
       "</style>\n",
       "<table border=\"1\" class=\"dataframe\">\n",
       "  <thead>\n",
       "    <tr style=\"text-align: right;\">\n",
       "      <th></th>\n",
       "      <th>mjd</th>\n",
       "      <th>band</th>\n",
       "      <th>flux</th>\n",
       "      <th>fluxerr</th>\n",
       "      <th>detected_bool</th>\n",
       "      <th>ratio</th>\n",
       "    </tr>\n",
       "  </thead>\n",
       "  <tbody>\n",
       "    <tr>\n",
       "      <th>188</th>\n",
       "      <td>60345.1713</td>\n",
       "      <td>z</td>\n",
       "      <td>5.420258</td>\n",
       "      <td>2.267127</td>\n",
       "      <td>1</td>\n",
       "      <td>2.390805</td>\n",
       "    </tr>\n",
       "    <tr>\n",
       "      <th>193</th>\n",
       "      <td>60356.2298</td>\n",
       "      <td>z</td>\n",
       "      <td>6.003763</td>\n",
       "      <td>2.327676</td>\n",
       "      <td>1</td>\n",
       "      <td>2.579295</td>\n",
       "    </tr>\n",
       "  </tbody>\n",
       "</table>\n",
       "</div>"
      ],
      "text/plain": [
       "            mjd band      flux   fluxerr  detected_bool     ratio\n",
       "188  60345.1713    z  5.420258  2.267127              1  2.390805\n",
       "193  60356.2298    z  6.003763  2.327676              1  2.579295"
      ]
     },
     "execution_count": 107,
     "metadata": {},
     "output_type": "execute_result"
    }
   ],
   "source": [
    "subdf_detected[subdf_detected[\"ratio\"]<3]"
   ]
  },
  {
   "cell_type": "code",
   "execution_count": 108,
   "id": "383c600d-c6e1-422b-8685-c3d97c92d256",
   "metadata": {},
   "outputs": [
    {
     "data": {
      "text/html": [
       "<div>\n",
       "<style scoped>\n",
       "    .dataframe tbody tr th:only-of-type {\n",
       "        vertical-align: middle;\n",
       "    }\n",
       "\n",
       "    .dataframe tbody tr th {\n",
       "        vertical-align: top;\n",
       "    }\n",
       "\n",
       "    .dataframe thead th {\n",
       "        text-align: right;\n",
       "    }\n",
       "</style>\n",
       "<table border=\"1\" class=\"dataframe\">\n",
       "  <thead>\n",
       "    <tr style=\"text-align: right;\">\n",
       "      <th></th>\n",
       "      <th>mjd</th>\n",
       "      <th>band</th>\n",
       "      <th>flux</th>\n",
       "      <th>fluxerr</th>\n",
       "      <th>detected_bool</th>\n",
       "      <th>ratio</th>\n",
       "    </tr>\n",
       "  </thead>\n",
       "  <tbody>\n",
       "    <tr>\n",
       "      <th>170</th>\n",
       "      <td>60327.3158</td>\n",
       "      <td>r</td>\n",
       "      <td>6.380403</td>\n",
       "      <td>1.371239</td>\n",
       "      <td>1</td>\n",
       "      <td>4.653020</td>\n",
       "    </tr>\n",
       "    <tr>\n",
       "      <th>188</th>\n",
       "      <td>60345.1713</td>\n",
       "      <td>z</td>\n",
       "      <td>5.420258</td>\n",
       "      <td>2.267127</td>\n",
       "      <td>1</td>\n",
       "      <td>2.390805</td>\n",
       "    </tr>\n",
       "    <tr>\n",
       "      <th>193</th>\n",
       "      <td>60356.2298</td>\n",
       "      <td>z</td>\n",
       "      <td>6.003763</td>\n",
       "      <td>2.327676</td>\n",
       "      <td>1</td>\n",
       "      <td>2.579295</td>\n",
       "    </tr>\n",
       "    <tr>\n",
       "      <th>197</th>\n",
       "      <td>60359.1234</td>\n",
       "      <td>i</td>\n",
       "      <td>6.227373</td>\n",
       "      <td>1.863008</td>\n",
       "      <td>1</td>\n",
       "      <td>3.342644</td>\n",
       "    </tr>\n",
       "  </tbody>\n",
       "</table>\n",
       "</div>"
      ],
      "text/plain": [
       "            mjd band      flux   fluxerr  detected_bool     ratio\n",
       "170  60327.3158    r  6.380403  1.371239              1  4.653020\n",
       "188  60345.1713    z  5.420258  2.267127              1  2.390805\n",
       "193  60356.2298    z  6.003763  2.327676              1  2.579295\n",
       "197  60359.1234    i  6.227373  1.863008              1  3.342644"
      ]
     },
     "execution_count": 108,
     "metadata": {},
     "output_type": "execute_result"
    }
   ],
   "source": [
    "subdf_detected"
   ]
  },
  {
   "cell_type": "code",
   "execution_count": 109,
   "id": "689ebe0d-221c-4090-b695-12434ebca1ba",
   "metadata": {},
   "outputs": [
    {
     "data": {
      "text/html": [
       "<div>\n",
       "<style scoped>\n",
       "    .dataframe tbody tr th:only-of-type {\n",
       "        vertical-align: middle;\n",
       "    }\n",
       "\n",
       "    .dataframe tbody tr th {\n",
       "        vertical-align: top;\n",
       "    }\n",
       "\n",
       "    .dataframe thead th {\n",
       "        text-align: right;\n",
       "    }\n",
       "</style>\n",
       "<table border=\"1\" class=\"dataframe\">\n",
       "  <thead>\n",
       "    <tr style=\"text-align: right;\">\n",
       "      <th></th>\n",
       "      <th>mjd</th>\n",
       "      <th>band</th>\n",
       "      <th>flux</th>\n",
       "      <th>fluxerr</th>\n",
       "      <th>detected_bool</th>\n",
       "      <th>ratio</th>\n",
       "    </tr>\n",
       "  </thead>\n",
       "  <tbody>\n",
       "    <tr>\n",
       "      <th>64</th>\n",
       "      <td>59688.0123</td>\n",
       "      <td>i</td>\n",
       "      <td>-7.819399</td>\n",
       "      <td>2.423834</td>\n",
       "      <td>0</td>\n",
       "      <td>3.226046</td>\n",
       "    </tr>\n",
       "    <tr>\n",
       "      <th>170</th>\n",
       "      <td>60327.3158</td>\n",
       "      <td>r</td>\n",
       "      <td>6.380403</td>\n",
       "      <td>1.371239</td>\n",
       "      <td>1</td>\n",
       "      <td>4.653020</td>\n",
       "    </tr>\n",
       "    <tr>\n",
       "      <th>172</th>\n",
       "      <td>60327.3310</td>\n",
       "      <td>i</td>\n",
       "      <td>7.365368</td>\n",
       "      <td>2.207418</td>\n",
       "      <td>0</td>\n",
       "      <td>3.336644</td>\n",
       "    </tr>\n",
       "    <tr>\n",
       "      <th>173</th>\n",
       "      <td>60327.3420</td>\n",
       "      <td>z</td>\n",
       "      <td>11.199477</td>\n",
       "      <td>3.413306</td>\n",
       "      <td>0</td>\n",
       "      <td>3.281123</td>\n",
       "    </tr>\n",
       "    <tr>\n",
       "      <th>177</th>\n",
       "      <td>60330.2032</td>\n",
       "      <td>i</td>\n",
       "      <td>10.148780</td>\n",
       "      <td>2.777265</td>\n",
       "      <td>0</td>\n",
       "      <td>3.654235</td>\n",
       "    </tr>\n",
       "    <tr>\n",
       "      <th>178</th>\n",
       "      <td>60330.2141</td>\n",
       "      <td>z</td>\n",
       "      <td>10.284228</td>\n",
       "      <td>3.418394</td>\n",
       "      <td>0</td>\n",
       "      <td>3.008497</td>\n",
       "    </tr>\n",
       "    <tr>\n",
       "      <th>182</th>\n",
       "      <td>60341.1805</td>\n",
       "      <td>i</td>\n",
       "      <td>7.772909</td>\n",
       "      <td>1.796105</td>\n",
       "      <td>0</td>\n",
       "      <td>4.327647</td>\n",
       "    </tr>\n",
       "    <tr>\n",
       "      <th>183</th>\n",
       "      <td>60341.1914</td>\n",
       "      <td>z</td>\n",
       "      <td>7.931674</td>\n",
       "      <td>2.234226</td>\n",
       "      <td>0</td>\n",
       "      <td>3.550077</td>\n",
       "    </tr>\n",
       "    <tr>\n",
       "      <th>185</th>\n",
       "      <td>60345.1451</td>\n",
       "      <td>r</td>\n",
       "      <td>3.788362</td>\n",
       "      <td>1.024136</td>\n",
       "      <td>0</td>\n",
       "      <td>3.699081</td>\n",
       "    </tr>\n",
       "    <tr>\n",
       "      <th>187</th>\n",
       "      <td>60345.1604</td>\n",
       "      <td>i</td>\n",
       "      <td>6.602319</td>\n",
       "      <td>1.548473</td>\n",
       "      <td>0</td>\n",
       "      <td>4.263761</td>\n",
       "    </tr>\n",
       "    <tr>\n",
       "      <th>190</th>\n",
       "      <td>60356.2036</td>\n",
       "      <td>r</td>\n",
       "      <td>3.777943</td>\n",
       "      <td>0.966526</td>\n",
       "      <td>0</td>\n",
       "      <td>3.908786</td>\n",
       "    </tr>\n",
       "    <tr>\n",
       "      <th>197</th>\n",
       "      <td>60359.1234</td>\n",
       "      <td>i</td>\n",
       "      <td>6.227373</td>\n",
       "      <td>1.863008</td>\n",
       "      <td>1</td>\n",
       "      <td>3.342644</td>\n",
       "    </tr>\n",
       "    <tr>\n",
       "      <th>198</th>\n",
       "      <td>60359.1344</td>\n",
       "      <td>z</td>\n",
       "      <td>10.228358</td>\n",
       "      <td>2.257262</td>\n",
       "      <td>0</td>\n",
       "      <td>4.531312</td>\n",
       "    </tr>\n",
       "    <tr>\n",
       "      <th>220</th>\n",
       "      <td>60386.1246</td>\n",
       "      <td>i</td>\n",
       "      <td>5.647303</td>\n",
       "      <td>1.408119</td>\n",
       "      <td>0</td>\n",
       "      <td>4.010530</td>\n",
       "    </tr>\n",
       "    <tr>\n",
       "      <th>221</th>\n",
       "      <td>60386.1355</td>\n",
       "      <td>z</td>\n",
       "      <td>8.039971</td>\n",
       "      <td>2.052946</td>\n",
       "      <td>0</td>\n",
       "      <td>3.916309</td>\n",
       "    </tr>\n",
       "    <tr>\n",
       "      <th>225</th>\n",
       "      <td>60400.0246</td>\n",
       "      <td>i</td>\n",
       "      <td>7.819427</td>\n",
       "      <td>2.306165</td>\n",
       "      <td>0</td>\n",
       "      <td>3.390662</td>\n",
       "    </tr>\n",
       "    <tr>\n",
       "      <th>230</th>\n",
       "      <td>60403.0334</td>\n",
       "      <td>i</td>\n",
       "      <td>7.721745</td>\n",
       "      <td>2.309674</td>\n",
       "      <td>0</td>\n",
       "      <td>3.343219</td>\n",
       "    </tr>\n",
       "    <tr>\n",
       "      <th>235</th>\n",
       "      <td>60415.0127</td>\n",
       "      <td>i</td>\n",
       "      <td>6.794280</td>\n",
       "      <td>1.325529</td>\n",
       "      <td>0</td>\n",
       "      <td>5.125712</td>\n",
       "    </tr>\n",
       "    <tr>\n",
       "      <th>236</th>\n",
       "      <td>60415.0237</td>\n",
       "      <td>z</td>\n",
       "      <td>7.162619</td>\n",
       "      <td>1.868270</td>\n",
       "      <td>0</td>\n",
       "      <td>3.833824</td>\n",
       "    </tr>\n",
       "    <tr>\n",
       "      <th>245</th>\n",
       "      <td>60431.0022</td>\n",
       "      <td>i</td>\n",
       "      <td>5.368598</td>\n",
       "      <td>1.233595</td>\n",
       "      <td>0</td>\n",
       "      <td>4.351994</td>\n",
       "    </tr>\n",
       "    <tr>\n",
       "      <th>250</th>\n",
       "      <td>60434.0005</td>\n",
       "      <td>i</td>\n",
       "      <td>4.096456</td>\n",
       "      <td>1.294059</td>\n",
       "      <td>0</td>\n",
       "      <td>3.165587</td>\n",
       "    </tr>\n",
       "  </tbody>\n",
       "</table>\n",
       "</div>"
      ],
      "text/plain": [
       "            mjd band       flux   fluxerr  detected_bool     ratio\n",
       "64   59688.0123    i  -7.819399  2.423834              0  3.226046\n",
       "170  60327.3158    r   6.380403  1.371239              1  4.653020\n",
       "172  60327.3310    i   7.365368  2.207418              0  3.336644\n",
       "173  60327.3420    z  11.199477  3.413306              0  3.281123\n",
       "177  60330.2032    i  10.148780  2.777265              0  3.654235\n",
       "178  60330.2141    z  10.284228  3.418394              0  3.008497\n",
       "182  60341.1805    i   7.772909  1.796105              0  4.327647\n",
       "183  60341.1914    z   7.931674  2.234226              0  3.550077\n",
       "185  60345.1451    r   3.788362  1.024136              0  3.699081\n",
       "187  60345.1604    i   6.602319  1.548473              0  4.263761\n",
       "190  60356.2036    r   3.777943  0.966526              0  3.908786\n",
       "197  60359.1234    i   6.227373  1.863008              1  3.342644\n",
       "198  60359.1344    z  10.228358  2.257262              0  4.531312\n",
       "220  60386.1246    i   5.647303  1.408119              0  4.010530\n",
       "221  60386.1355    z   8.039971  2.052946              0  3.916309\n",
       "225  60400.0246    i   7.819427  2.306165              0  3.390662\n",
       "230  60403.0334    i   7.721745  2.309674              0  3.343219\n",
       "235  60415.0127    i   6.794280  1.325529              0  5.125712\n",
       "236  60415.0237    z   7.162619  1.868270              0  3.833824\n",
       "245  60431.0022    i   5.368598  1.233595              0  4.351994\n",
       "250  60434.0005    i   4.096456  1.294059              0  3.165587"
      ]
     },
     "execution_count": 109,
     "metadata": {},
     "output_type": "execute_result"
    }
   ],
   "source": [
    "subdf_ratio3"
   ]
  },
  {
   "cell_type": "markdown",
   "id": "03581640-1d43-4deb-96ac-3a18ffd7d2d0",
   "metadata": {},
   "source": [
    "# Debug"
   ]
  },
  {
   "cell_type": "code",
   "execution_count": 28,
   "id": "11d5bee3-8406-4f80-82f1-51ffb36aca24",
   "metadata": {},
   "outputs": [
    {
     "name": "stdout",
     "output_type": "stream",
     "text": [
      "imax = 322\n",
      "mjdmax=852.6057000000001\n",
      "Mismatch Count = 116\n"
     ]
    }
   ],
   "source": [
    "df=pd.read_csv(\"csv_data/75803_AGN.csv\")\n",
    "df[\"mjd\"] = df[\"mjd\"] - df[\"mjd\"][0]\n",
    "imax = abs(df[\"flux\"]/df[\"fluxerr\"]).argmax()\n",
    "\n",
    "if abs(df[\"flux\"]/df[\"fluxerr\"]).max() < 5:\n",
    "    print(title)\n",
    "\n",
    "mjdmax = df[\"mjd\"][imax]\n",
    "\n",
    "print(f\"imax = {imax}\\nmjdmax={mjdmax}\")\n",
    "df[\"sid_bool\"]=0\n",
    "df.loc[(df[\"mjd\"] >= mjdmax-100) & (df[\"mjd\"] <= mjdmax+120),\"sid_bool\"] = 1\n",
    "df[\"ratio\"] = abs(df[\"flux\"]/df[\"fluxerr\"])\n",
    "mismatch_count = len(df.loc[df[\"detected_bool\"] - df[\"sid_bool\"] == 1])\n",
    "print(f\"Mismatch Count = {mismatch_count}\")"
   ]
  },
  {
   "cell_type": "code",
   "execution_count": 27,
   "id": "b56ba5b1-2a90-473f-9dd8-d2abbf6aad85",
   "metadata": {},
   "outputs": [
    {
     "data": {
      "image/png": "[encoded data removed]",
      "text/plain": [
       "<Figure size 432x288 with 1 Axes>"
      ]
     },
     "metadata": {
      "needs_background": "light"
     },
     "output_type": "display_data"
    }
   ],
   "source": [
    "plot_allbands_df(df).show()"
   ]
  },
  {
   "cell_type": "code",
   "execution_count": 28,
   "id": "d88f8848-2536-45ff-8659-f4c3b3fb63cf",
   "metadata": {},
   "outputs": [
    {
     "data": {
      "text/plain": [
       "<module 'matplotlib.pylab' from '/home/sidchaini/resspect_work/.venvs/newresspect/lib/python3.8/site-packages/matplotlib/pylab.py'>"
      ]
     },
     "execution_count": 28,
     "metadata": {},
     "output_type": "execute_result"
    },
    {
     "data": {
      "image/png": "[encoded data removed]",
      "text/plain": [
       "<Figure size 432x288 with 1 Axes>"
      ]
     },
     "metadata": {
      "needs_background": "light"
     },
     "output_type": "display_data"
    }
   ],
   "source": [
    "plot_allbands_df(df[df[\"detected_bool\"]==1])"
   ]
  },
  {
   "cell_type": "code",
   "execution_count": 29,
   "id": "183a9a52-bc76-4bb8-a106-a5aa7124d4ef",
   "metadata": {},
   "outputs": [
    {
     "data": {
      "text/plain": [
       "<module 'matplotlib.pylab' from '/home/sidchaini/resspect_work/.venvs/newresspect/lib/python3.8/site-packages/matplotlib/pylab.py'>"
      ]
     },
     "execution_count": 29,
     "metadata": {},
     "output_type": "execute_result"
    },
    {
     "data": {
      "image/png": "[encoded data removed]",
      "text/plain": [
       "<Figure size 432x288 with 1 Axes>"
      ]
     },
     "metadata": {
      "needs_background": "light"
     },
     "output_type": "display_data"
    }
   ],
   "source": [
    "plot_allbands_df(df[df[\"sid_bool\"]==1])"
   ]
  },
  {
   "cell_type": "code",
   "execution_count": 30,
   "id": "0699b0a2-85f6-418c-887e-b81d118d518f",
   "metadata": {},
   "outputs": [
    {
     "data": {
      "text/plain": [
       "101.6545"
      ]
     },
     "execution_count": 30,
     "metadata": {},
     "output_type": "execute_result"
    }
   ],
   "source": [
    "101.6623 - 0.0078"
   ]
  },
  {
   "cell_type": "code",
   "execution_count": 41,
   "id": "e7e10b2d-8c74-401b-aebb-67c79df756b0",
   "metadata": {},
   "outputs": [
    {
     "data": {
      "text/plain": [
       "8.28073804737199"
      ]
     },
     "execution_count": 41,
     "metadata": {},
     "output_type": "execute_result"
    }
   ],
   "source": [
    "df[df[\"sid_bool\"]==1][\"ratio\"].mean()"
   ]
  },
  {
   "cell_type": "code",
   "execution_count": 35,
   "id": "fdccf17d-f3c3-4e5c-b71c-a48285d3bd91",
   "metadata": {},
   "outputs": [
    {
     "data": {
      "text/html": [
       "<div>\n",
       "<style scoped>\n",
       "    .dataframe tbody tr th:only-of-type {\n",
       "        vertical-align: middle;\n",
       "    }\n",
       "\n",
       "    .dataframe tbody tr th {\n",
       "        vertical-align: top;\n",
       "    }\n",
       "\n",
       "    .dataframe thead th {\n",
       "        text-align: right;\n",
       "    }\n",
       "</style>\n",
       "<table border=\"1\" class=\"dataframe\">\n",
       "  <thead>\n",
       "    <tr style=\"text-align: right;\">\n",
       "      <th></th>\n",
       "      <th>mjd</th>\n",
       "      <th>band</th>\n",
       "      <th>flux</th>\n",
       "      <th>fluxerr</th>\n",
       "      <th>detected_bool</th>\n",
       "      <th>sid_bool</th>\n",
       "      <th>ratio</th>\n",
       "    </tr>\n",
       "  </thead>\n",
       "  <tbody>\n",
       "    <tr>\n",
       "      <th>0</th>\n",
       "      <td>0.0000</td>\n",
       "      <td>r</td>\n",
       "      <td>-7.660913</td>\n",
       "      <td>1.512587</td>\n",
       "      <td>1</td>\n",
       "      <td>0</td>\n",
       "      <td>5.064775</td>\n",
       "    </tr>\n",
       "    <tr>\n",
       "      <th>4</th>\n",
       "      <td>1.9841</td>\n",
       "      <td>r</td>\n",
       "      <td>-9.527588</td>\n",
       "      <td>1.073902</td>\n",
       "      <td>1</td>\n",
       "      <td>0</td>\n",
       "      <td>8.871934</td>\n",
       "    </tr>\n",
       "    <tr>\n",
       "      <th>5</th>\n",
       "      <td>1.9918</td>\n",
       "      <td>g</td>\n",
       "      <td>-8.355110</td>\n",
       "      <td>1.120871</td>\n",
       "      <td>1</td>\n",
       "      <td>0</td>\n",
       "      <td>7.454123</td>\n",
       "    </tr>\n",
       "    <tr>\n",
       "      <th>9</th>\n",
       "      <td>16.8739</td>\n",
       "      <td>r</td>\n",
       "      <td>-11.183630</td>\n",
       "      <td>0.891959</td>\n",
       "      <td>1</td>\n",
       "      <td>0</td>\n",
       "      <td>12.538278</td>\n",
       "    </tr>\n",
       "    <tr>\n",
       "      <th>10</th>\n",
       "      <td>16.8816</td>\n",
       "      <td>g</td>\n",
       "      <td>-8.550486</td>\n",
       "      <td>0.781694</td>\n",
       "      <td>1</td>\n",
       "      <td>0</td>\n",
       "      <td>10.938406</td>\n",
       "    </tr>\n",
       "    <tr>\n",
       "      <th>...</th>\n",
       "      <td>...</td>\n",
       "      <td>...</td>\n",
       "      <td>...</td>\n",
       "      <td>...</td>\n",
       "      <td>...</td>\n",
       "      <td>...</td>\n",
       "      <td>...</td>\n",
       "    </tr>\n",
       "    <tr>\n",
       "      <th>344</th>\n",
       "      <td>870.7657</td>\n",
       "      <td>i</td>\n",
       "      <td>-19.821371</td>\n",
       "      <td>1.600399</td>\n",
       "      <td>1</td>\n",
       "      <td>1</td>\n",
       "      <td>12.385268</td>\n",
       "    </tr>\n",
       "    <tr>\n",
       "      <th>345</th>\n",
       "      <td>870.7767</td>\n",
       "      <td>z</td>\n",
       "      <td>-17.800892</td>\n",
       "      <td>2.587148</td>\n",
       "      <td>1</td>\n",
       "      <td>1</td>\n",
       "      <td>6.880508</td>\n",
       "    </tr>\n",
       "    <tr>\n",
       "      <th>347</th>\n",
       "      <td>873.7531</td>\n",
       "      <td>r</td>\n",
       "      <td>-17.348915</td>\n",
       "      <td>1.677995</td>\n",
       "      <td>1</td>\n",
       "      <td>1</td>\n",
       "      <td>10.339074</td>\n",
       "    </tr>\n",
       "    <tr>\n",
       "      <th>348</th>\n",
       "      <td>873.7607</td>\n",
       "      <td>g</td>\n",
       "      <td>-14.606277</td>\n",
       "      <td>2.290154</td>\n",
       "      <td>1</td>\n",
       "      <td>1</td>\n",
       "      <td>6.377858</td>\n",
       "    </tr>\n",
       "    <tr>\n",
       "      <th>349</th>\n",
       "      <td>873.7684</td>\n",
       "      <td>i</td>\n",
       "      <td>-14.890747</td>\n",
       "      <td>2.192778</td>\n",
       "      <td>1</td>\n",
       "      <td>1</td>\n",
       "      <td>6.790814</td>\n",
       "    </tr>\n",
       "  </tbody>\n",
       "</table>\n",
       "<p>187 rows × 7 columns</p>\n",
       "</div>"
      ],
      "text/plain": [
       "          mjd band       flux   fluxerr  detected_bool  sid_bool      ratio\n",
       "0      0.0000    r  -7.660913  1.512587              1         0   5.064775\n",
       "4      1.9841    r  -9.527588  1.073902              1         0   8.871934\n",
       "5      1.9918    g  -8.355110  1.120871              1         0   7.454123\n",
       "9     16.8739    r -11.183630  0.891959              1         0  12.538278\n",
       "10    16.8816    g  -8.550486  0.781694              1         0  10.938406\n",
       "..        ...  ...        ...       ...            ...       ...        ...\n",
       "344  870.7657    i -19.821371  1.600399              1         1  12.385268\n",
       "345  870.7767    z -17.800892  2.587148              1         1   6.880508\n",
       "347  873.7531    r -17.348915  1.677995              1         1  10.339074\n",
       "348  873.7607    g -14.606277  2.290154              1         1   6.377858\n",
       "349  873.7684    i -14.890747  2.192778              1         1   6.790814\n",
       "\n",
       "[187 rows x 7 columns]"
      ]
     },
     "execution_count": 35,
     "metadata": {},
     "output_type": "execute_result"
    }
   ],
   "source": [
    "df[df[\"detected_bool\"]==1]"
   ]
  },
  {
   "cell_type": "code",
   "execution_count": 14,
   "id": "2189e386-6e8f-4952-af6e-201c15d1d8e2",
   "metadata": {},
   "outputs": [
    {
     "data": {
      "text/plain": [
       "103.81030000000281"
      ]
     },
     "execution_count": 14,
     "metadata": {},
     "output_type": "execute_result"
    }
   ],
   "source": [
    "103.8179 - 0.007599999997182749"
   ]
  },
  {
   "cell_type": "code",
   "execution_count": 15,
   "id": "0d58019b-e215-4ff3-aab1-37034f96ed29",
   "metadata": {},
   "outputs": [
    {
     "data": {
      "text/plain": [
       "111.7524000000036"
      ]
     },
     "execution_count": 15,
     "metadata": {},
     "output_type": "execute_result"
    }
   ],
   "source": [
    "845.7416 - 733.9891999999963"
   ]
  },
  {
   "cell_type": "code",
   "execution_count": 16,
   "id": "06be1f4b-1442-43ac-bd80-7fb4b42ae5ed",
   "metadata": {},
   "outputs": [
    {
     "data": {
      "text/plain": [
       "105.77370000000712"
      ]
     },
     "execution_count": 16,
     "metadata": {},
     "output_type": "execute_result"
    }
   ],
   "source": [
    "111.6798 - 5.906099999992875"
   ]
  },
  {
   "cell_type": "code",
   "execution_count": 17,
   "id": "008108ed-7686-43a6-aebc-bf01f2e70012",
   "metadata": {},
   "outputs": [
    {
     "data": {
      "text/plain": [
       "102.80030000000001"
      ]
     },
     "execution_count": 17,
     "metadata": {},
     "output_type": "execute_result"
    }
   ],
   "source": [
    "108.6911 - 5.8908"
   ]
  },
  {
   "cell_type": "code",
   "execution_count": 18,
   "id": "b3c1f99b-f9f3-4474-b666-d3d968fdf9fd",
   "metadata": {},
   "outputs": [
    {
     "data": {
      "text/plain": [
       "-119.84220000000005"
      ]
     },
     "execution_count": 18,
     "metadata": {},
     "output_type": "execute_result"
    }
   ],
   "source": [
    "733.9814 - 853.8236"
   ]
  },
  {
   "cell_type": "code",
   "execution_count": 19,
   "id": "1e8264c2-e454-4343-84a7-48ee90d69f96",
   "metadata": {},
   "outputs": [
    {
     "data": {
      "text/plain": [
       "-105.71120000000002"
      ]
     },
     "execution_count": 19,
     "metadata": {},
     "output_type": "execute_result"
    }
   ],
   "source": [
    "383.0883 - 488.7995"
   ]
  },
  {
   "cell_type": "code",
   "execution_count": 20,
   "id": "c2cc8dc1-f4ff-4cf7-8810-bf3934b718d4",
   "metadata": {},
   "outputs": [
    {
     "data": {
      "text/plain": [
       "115.91980000000001"
      ]
     },
     "execution_count": 20,
     "metadata": {},
     "output_type": "execute_result"
    }
   ],
   "source": [
    "873.7684 - 757.8486"
   ]
  },
  {
   "cell_type": "code",
   "execution_count": 21,
   "id": "f694895b-7504-488e-a9b4-b95329de9263",
   "metadata": {},
   "outputs": [
    {
     "data": {
      "text/plain": [
       "115.80280000000005"
      ]
     },
     "execution_count": 21,
     "metadata": {},
     "output_type": "execute_result"
    }
   ],
   "source": [
    "858.6171 - 742.8143"
   ]
  },
  {
   "cell_type": "code",
   "execution_count": 22,
   "id": "c1fe22cb-7c77-491e-afa1-db8226ee317b",
   "metadata": {},
   "outputs": [
    {
     "data": {
      "text/plain": [
       "103.6712"
      ]
     },
     "execution_count": 22,
     "metadata": {},
     "output_type": "execute_result"
    }
   ],
   "source": [
    "848.6740 - 745.0028"
   ]
  },
  {
   "cell_type": "code",
   "execution_count": null,
   "id": "430cb974-1beb-4b85-ab9f-0eec9b1a975b",
   "metadata": {},
   "outputs": [],
   "source": []
  }
 ],
 "metadata": {
  "kernelspec": {
   "display_name": "Python 3",
   "language": "python",
   "name": "python3"
  },
  "language_info": {
   "codemirror_mode": {
    "name": "ipython",
    "version": 3
   },
   "file_extension": ".py",
   "mimetype": "text/x-python",
   "name": "python",
   "nbconvert_exporter": "python",
   "pygments_lexer": "ipython3",
   "version": "3.8.5"
  }
 },
 "nbformat": 4,
 "nbformat_minor": 5
}
